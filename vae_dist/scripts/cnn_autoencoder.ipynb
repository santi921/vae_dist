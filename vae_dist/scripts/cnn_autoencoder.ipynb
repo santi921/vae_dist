{
 "cells": [
  {
   "cell_type": "code",
   "execution_count": 1,
   "metadata": {},
   "outputs": [
    {
     "name": "stderr",
     "output_type": "stream",
     "text": [
      "/home/santiagovargas/anaconda3/envs/bondnet/lib/python3.7/site-packages/tqdm/auto.py:22: TqdmWarning: IProgress not found. Please update jupyter and ipywidgets. See https://ipywidgets.readthedocs.io/en/stable/user_install.html\n",
      "  from .autonotebook import tqdm as notebook_tqdm\n"
     ]
    }
   ],
   "source": [
    "%load_ext autoreload\n",
    "\n",
    "%autoreload 2\n",
    "\n",
    "from vae_dist.core.baselineCNN import baselineCNNAutoencoder\n",
    "from vae_dist.core.training import train\n",
    "from vae_dist.dataset.dataset import FieldDataset\n",
    "import torch "
   ]
  },
  {
   "cell_type": "code",
   "execution_count": 2,
   "metadata": {},
   "outputs": [],
   "source": [
    "device = torch.device('cuda' if torch.cuda.is_available() else 'cpu')\n",
    "root = \"../../data/cpet/\"\n",
    "# load model to gpu\n",
    "dataset_vanilla = FieldDataset(\n",
    "    root, \n",
    "    transform=None, \n",
    "    augmentation=None, \n",
    "    device=device\n",
    "    )\n",
    "\n",
    "\n",
    "dataset_loader_full = torch.utils.data.DataLoader(dataset_vanilla, batch_size=40, shuffle=True)\n"
   ]
  },
  {
   "cell_type": "code",
   "execution_count": 3,
   "metadata": {},
   "outputs": [
    {
     "name": "stdout",
     "output_type": "stream",
     "text": [
      "----------------------------------------------------------------\n",
      "        Layer (type)               Output Shape         Param #\n",
      "================================================================\n",
      "            Conv3d-1       [-1, 16, 17, 17, 17]           6,016\n",
      "       BatchNorm3d-2       [-1, 16, 17, 17, 17]              32\n",
      "              ReLU-3       [-1, 16, 17, 17, 17]               0\n",
      "         ConvBatch-4       [-1, 16, 17, 17, 17]               0\n",
      "           Flatten-5                [-1, 78608]               0\n",
      "            Linear-6                   [-1, 32]       2,515,488\n",
      "              ReLU-7                   [-1, 32]               0\n",
      "================================================================\n",
      "Total params: 2,521,536\n",
      "Trainable params: 2,521,536\n",
      "Non-trainable params: 0\n",
      "----------------------------------------------------------------\n",
      "Input size (MB): 0.11\n",
      "Forward/backward pass size (MB): 3.00\n",
      "Params size (MB): 9.62\n",
      "Estimated Total Size (MB): 12.72\n",
      "----------------------------------------------------------------\n"
     ]
    }
   ],
   "source": [
    "model = baselineCNNAutoencoder(\n",
    "    irreps = None, # not used rn \n",
    "    in_channels = 3,\n",
    "    out_channels = 16,\n",
    "    kernel_size = 5,\n",
    "    stride = 1,\n",
    "    padding = 0,\n",
    "    dilation = 1,\n",
    "    groups = 1,\n",
    "    bias = True,\n",
    "    padding_mode = 'zeros',\n",
    "    #padding_mode = 'constant',\n",
    "    latent_dim = 4, # final vae hidden layer \n",
    "    num_layers = 2, # not used rn \n",
    "    hidden_dim = 32,\n",
    "    activation = 'relu', # not used rn \n",
    "    dropout = 0.1, # not used rn \n",
    "    batch_norm = False, # not used rn \n",
    "    beta = 1.0,\n",
    "    device = device\n",
    ")"
   ]
  },
  {
   "cell_type": "code",
   "execution_count": 4,
   "metadata": {},
   "outputs": [
    {
     "name": "stdout",
     "output_type": "stream",
     "text": [
      "epoch: 0 loss: 40511.342124938965\n",
      "epoch: 1 loss: 40487.87885284424\n",
      "epoch: 2 loss: 40517.42845916748\n",
      "epoch: 3 loss: 40515.117614746094\n",
      "epoch: 4 loss: 40464.92826843262\n",
      "epoch: 5 loss: 40482.542388916016\n",
      "epoch: 6 loss: 40476.907457351685\n",
      "epoch: 7 loss: 40468.06441116333\n",
      "epoch: 8 loss: 40457.70063972473\n",
      "epoch: 9 loss: 40551.802894592285\n",
      "epoch: 10 loss: 40499.45729827881\n",
      "epoch: 11 loss: 40467.92987060547\n",
      "epoch: 12 loss: 40462.83387756348\n",
      "epoch: 13 loss: 49342.72155380249\n",
      "epoch: 14 loss: 40476.48233795166\n",
      "epoch: 15 loss: 40525.74387168884\n",
      "epoch: 16 loss: 40547.36952209473\n",
      "epoch: 17 loss: 40510.873722076416\n",
      "epoch: 18 loss: 40507.89728927612\n",
      "epoch: 19 loss: 40487.83752822876\n",
      "epoch: 20 loss: 40508.58669948578\n",
      "epoch: 21 loss: 49321.893951416016\n",
      "epoch: 22 loss: 41305.05606842041\n",
      "epoch: 23 loss: 40457.722942352295\n",
      "epoch: 24 loss: 40516.47158050537\n",
      "epoch: 25 loss: 40461.326568603516\n",
      "epoch: 26 loss: 40560.735513687134\n",
      "epoch: 27 loss: 40468.02931213379\n",
      "epoch: 28 loss: 40458.88101196289\n",
      "epoch: 29 loss: 40468.73553943634\n",
      "epoch: 30 loss: 40460.733936309814\n",
      "epoch: 31 loss: 40462.41509628296\n",
      "epoch: 32 loss: 41250.15365600586\n",
      "epoch: 33 loss: 40484.216037750244\n",
      "epoch: 34 loss: 40609.9695892334\n",
      "epoch: 35 loss: 40465.64409637451\n",
      "epoch: 36 loss: 40519.20590591431\n",
      "epoch: 37 loss: 41308.01509094238\n",
      "epoch: 38 loss: 40470.88905334473\n",
      "epoch: 39 loss: 40481.108474731445\n",
      "epoch: 40 loss: 49379.37054824829\n",
      "epoch: 41 loss: 40457.84577178955\n",
      "epoch: 42 loss: 41276.58405303955\n",
      "epoch: 43 loss: 40541.75336074829\n",
      "epoch: 44 loss: 40467.69608306885\n",
      "epoch: 45 loss: 49330.9289894104\n",
      "epoch: 46 loss: 40507.332964897156\n",
      "epoch: 47 loss: 49337.09121513367\n",
      "epoch: 48 loss: 40461.65985298157\n",
      "epoch: 49 loss: 40469.64823961258\n",
      "epoch: 50 loss: 40517.73943519592\n",
      "epoch: 51 loss: 40503.99448776245\n",
      "epoch: 52 loss: 40485.152141571045\n",
      "epoch: 53 loss: 40457.125650405884\n",
      "epoch: 54 loss: 40470.01583099365\n",
      "epoch: 55 loss: 40521.29117393494\n",
      "epoch: 56 loss: 40534.9971370697\n",
      "epoch: 57 loss: 40464.107387542725\n",
      "epoch: 58 loss: 40464.89303588867\n",
      "epoch: 59 loss: 40492.09925842285\n",
      "epoch: 60 loss: 49388.63332748413\n",
      "epoch: 61 loss: 40594.845506191254\n",
      "epoch: 62 loss: 40472.33084487915\n",
      "epoch: 63 loss: 40472.41064453125\n",
      "epoch: 64 loss: 40468.19192123413\n",
      "epoch: 65 loss: 40508.73989868164\n",
      "epoch: 66 loss: 40509.625076293945\n",
      "epoch: 67 loss: 40476.509765625\n",
      "epoch: 68 loss: 40561.72539138794\n",
      "epoch: 69 loss: 40499.346855163574\n",
      "epoch: 70 loss: 40468.74816131592\n",
      "epoch: 71 loss: 40498.80492019653\n",
      "epoch: 72 loss: 40500.45826911926\n",
      "epoch: 73 loss: 40502.57838058472\n",
      "epoch: 74 loss: 40458.92107772827\n",
      "epoch: 75 loss: 40491.472118377686\n",
      "epoch: 76 loss: 40519.213916778564\n",
      "epoch: 77 loss: 40518.08189678192\n",
      "epoch: 78 loss: 40555.76811218262\n",
      "epoch: 79 loss: 41279.31721496582\n",
      "epoch: 80 loss: 40494.49478340149\n",
      "epoch: 81 loss: 40470.838191986084\n",
      "epoch: 82 loss: 40455.01422786713\n",
      "epoch: 83 loss: 40461.087257385254\n",
      "epoch: 84 loss: 41318.76932525635\n",
      "epoch: 85 loss: 40489.47193145752\n",
      "epoch: 86 loss: 40498.69282531738\n",
      "epoch: 87 loss: 40524.15022277832\n",
      "epoch: 88 loss: 49331.03755950928\n",
      "epoch: 89 loss: 40478.62401390076\n",
      "epoch: 90 loss: 40522.367321014404\n",
      "epoch: 91 loss: 40464.53631591797\n",
      "epoch: 92 loss: 40492.86103820801\n",
      "epoch: 93 loss: 40523.88621520996\n",
      "epoch: 94 loss: 49350.64687919617\n",
      "epoch: 95 loss: 49375.008319854736\n",
      "epoch: 96 loss: 40516.06477546692\n",
      "epoch: 97 loss: 49367.37213516235\n",
      "epoch: 98 loss: 40527.76249694824\n",
      "epoch: 99 loss: 40542.66164779663\n"
     ]
    }
   ],
   "source": [
    "train(model, dataset_loader_full, device = device, epochs = 100)"
   ]
  },
  {
   "cell_type": "code",
   "execution_count": null,
   "metadata": {},
   "outputs": [],
   "source": []
  },
  {
   "cell_type": "code",
   "execution_count": null,
   "metadata": {},
   "outputs": [],
   "source": []
  }
 ],
 "metadata": {
  "kernelspec": {
   "display_name": "bondnet",
   "language": "python",
   "name": "python3"
  },
  "language_info": {
   "codemirror_mode": {
    "name": "ipython",
    "version": 3
   },
   "file_extension": ".py",
   "mimetype": "text/x-python",
   "name": "python",
   "nbconvert_exporter": "python",
   "pygments_lexer": "ipython3",
   "version": "3.7.0 (default, Oct  9 2018, 10:31:47) \n[GCC 7.3.0]"
  },
  "orig_nbformat": 4,
  "vscode": {
   "interpreter": {
    "hash": "c205a9eb4435b0aa27aaf0e9c4340d2b9512e0cc8b49dbd290219ad3711c312f"
   }
  }
 },
 "nbformat": 4,
 "nbformat_minor": 2
}
