{
 "cells": [
  {
   "cell_type": "code",
   "execution_count": 3,
   "metadata": {},
   "outputs": [
    {
     "name": "stdout",
     "output_type": "stream",
     "text": [
      "The tensorboard extension is already loaded. To reload it, use:\n",
      "  %reload_ext tensorboard\n"
     ]
    },
    {
     "data": {
      "text/html": [
       "\n",
       "      <iframe id=\"tensorboard-frame-477d7f2bfe0e66df\" width=\"100%\" height=\"800\" frameborder=\"0\">\n",
       "      </iframe>\n",
       "      <script>\n",
       "        (function() {\n",
       "          const frame = document.getElementById(\"tensorboard-frame-477d7f2bfe0e66df\");\n",
       "          const url = new URL(\"/\", window.location);\n",
       "          const port = 6007;\n",
       "          if (port) {\n",
       "            url.port = port;\n",
       "          }\n",
       "          frame.src = url;\n",
       "        })();\n",
       "      </script>\n",
       "    "
      ],
      "text/plain": [
       "<IPython.core.display.HTML object>"
      ]
     },
     "metadata": {},
     "output_type": "display_data"
    }
   ],
   "source": [
    "%load_ext tensorboard\n",
    "%tensorboard --logdir log_version_esvae_1/lightning_logs/"
   ]
  },
  {
   "cell_type": "code",
   "execution_count": 4,
   "metadata": {},
   "outputs": [
    {
     "data": {
      "text/plain": [
       "Reusing TensorBoard on port 6007 (pid 2974280), started 0:00:12 ago. (Use '!kill 2974280' to kill it.)"
      ]
     },
     "metadata": {},
     "output_type": "display_data"
    },
    {
     "data": {
      "text/html": [
       "\n",
       "      <iframe id=\"tensorboard-frame-e4cd53c10f350c77\" width=\"100%\" height=\"800\" frameborder=\"0\">\n",
       "      </iframe>\n",
       "      <script>\n",
       "        (function() {\n",
       "          const frame = document.getElementById(\"tensorboard-frame-e4cd53c10f350c77\");\n",
       "          const url = new URL(\"http://localhost\");\n",
       "          const port = 6007;\n",
       "          if (port) {\n",
       "            url.port = port;\n",
       "          }\n",
       "          frame.src = url;\n",
       "        })();\n",
       "      </script>\n",
       "    "
      ],
      "text/plain": [
       "<IPython.core.display.HTML object>"
      ]
     },
     "metadata": {},
     "output_type": "display_data"
    }
   ],
   "source": [
    "%tensorboard --logdir log_version_esvae_1/lightning_logs/"
   ]
  },
  {
   "cell_type": "code",
   "execution_count": 6,
   "metadata": {},
   "outputs": [],
   "source": [
    "\n",
    "#group = group,\n",
    "#feat_type_in = feat_type_in, \n",
    "#feat_type_out = feat_type_out, \n",
    "vae_paras = {\n",
    "    \"kernel_size\":5,\n",
    "    \"latent_dim\":10, \n",
    "    \"learning_rate\":0.0005,\n",
    "    \"fully_connected_dims\":[100, 100, 100]\n",
    "}\n",
    "# save to json\n",
    "with open('./options/options_esvae_default.json', 'w') as fp:\n",
    "    json.dump(vae_paras, fp, indent=4)\n",
    "    "
   ]
  },
  {
   "cell_type": "code",
   "execution_count": 7,
   "metadata": {},
   "outputs": [],
   "source": [
    "escnn_options = {\n",
    "        'kernel_size': 5,\n",
    "        'learning_rate': 0.0005,\n",
    "        'latent_dim': 100,\n",
    "        'fully_connected_dims': [100,100,100],\n",
    "}\n",
    "\n",
    "with open('./options/options_escnn_default.json', 'w') as fp:\n",
    "    json.dump(escnn_options, fp, indent=4)"
   ]
  },
  {
   "cell_type": "code",
   "execution_count": 3,
   "metadata": {},
   "outputs": [],
   "source": [
    "import json\n",
    "\n",
    "options_cnn = {\n",
    "        'irreps': None, # not used rn\n",
    "        'in_channels': 3,\n",
    "        'out_channels': 16,\n",
    "        'kernel_size': 5,\n",
    "        'stride': 1,\n",
    "        'padding': 0,\n",
    "        'dilation': 1,\n",
    "        'groups': 1,\n",
    "        'bias': True,\n",
    "        'padding_mode': 'zeros',\n",
    "        'latent_dim': 4, # final vae hidden layer\n",
    "        'num_layers': 2, # not used rn\n",
    "        'hidden_dim': 32,\n",
    "        'activation': 'relu', # not used rn\n",
    "        'dropout': 0.1, # not used rn\n",
    "        'batch_norm': False, # not used rn\n",
    "        'beta': 1.0,\n",
    "        'learning_rate': 0.01\n",
    "}\n",
    "\n",
    "# save options to json file\n",
    "with open('./options/options_cnn.json', 'w') as fp:\n",
    "        json.dump(options_cnn, fp, indent=4)\n"
   ]
  },
  {
   "cell_type": "code",
   "execution_count": 5,
   "metadata": {},
   "outputs": [],
   "source": [
    "vae_defaults = {\n",
    "        \"irreps\" : None,\n",
    "        \"in_channels\" : 3,\n",
    "        \"out_channels\" : 16,\n",
    "        \"kernel_size\" : 5,\n",
    "        \"stride\" : 1,\n",
    "        \"padding\" : 0,\n",
    "        \"dilation\" : 1,\n",
    "        \"groups\" : 1,\n",
    "        \"bias\" : True,\n",
    "        \"padding_mode\" : 'zeros',\n",
    "        \"latent_dim\" : 4, # final vae hidden layer\n",
    "        \"num_layers\" : 2, # not used rn\n",
    "        \"hidden_dim\" : 32,\n",
    "        \"activation\" : 'relu', # not used rn\n",
    "        \"dropout\" : 0.1, # not used rn\n",
    "        \"batch_norm\" : False, # not used rn\n",
    "        \"beta\" : 1.0,\n",
    "        \"learning_rate\" : 0.001\n",
    "    }\n",
    "\n",
    "\n",
    "# save options to json file\n",
    "with open('./options/options_vae_default.json', 'w') as fp:\n",
    "    json.dump(vae_defaults, fp, indent=4)"
   ]
  },
  {
   "cell_type": "code",
   "execution_count": null,
   "metadata": {},
   "outputs": [],
   "source": []
  }
 ],
 "metadata": {
  "kernelspec": {
   "display_name": "bondnet_e3nn",
   "language": "python",
   "name": "python3"
  },
  "language_info": {
   "codemirror_mode": {
    "name": "ipython",
    "version": 3
   },
   "file_extension": ".py",
   "mimetype": "text/x-python",
   "name": "python",
   "nbconvert_exporter": "python",
   "pygments_lexer": "ipython3",
   "version": "3.7.0 (default, Oct  9 2018, 10:31:47) \n[GCC 7.3.0]"
  },
  "orig_nbformat": 4,
  "vscode": {
   "interpreter": {
    "hash": "8b207b546ed9db85640a40bfde077152bd4bf149c5bd635f9999638fb346ceab"
   }
  }
 },
 "nbformat": 4,
 "nbformat_minor": 2
}
