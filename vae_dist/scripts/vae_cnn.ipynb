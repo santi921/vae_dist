{
 "cells": [
  {
   "cell_type": "code",
   "execution_count": 2,
   "metadata": {},
   "outputs": [
    {
     "name": "stdout",
     "output_type": "stream",
     "text": [
      "The autoreload extension is already loaded. To reload it, use:\n",
      "  %reload_ext autoreload\n"
     ]
    },
    {
     "ename": "ModuleNotFoundError",
     "evalue": "No module named 'pytorch_lightning'",
     "output_type": "error",
     "traceback": [
      "\u001b[0;31m---------------------------------------------------------------------------\u001b[0m",
      "\u001b[0;31mModuleNotFoundError\u001b[0m                       Traceback (most recent call last)",
      "\u001b[0;32m/tmp/ipykernel_34889/3271926980.py\u001b[0m in \u001b[0;36m<module>\u001b[0;34m\u001b[0m\n\u001b[1;32m      3\u001b[0m \u001b[0mget_ipython\u001b[0m\u001b[0;34m(\u001b[0m\u001b[0;34m)\u001b[0m\u001b[0;34m.\u001b[0m\u001b[0mrun_line_magic\u001b[0m\u001b[0;34m(\u001b[0m\u001b[0;34m'autoreload'\u001b[0m\u001b[0;34m,\u001b[0m \u001b[0;34m'2'\u001b[0m\u001b[0;34m)\u001b[0m\u001b[0;34m\u001b[0m\u001b[0m\n\u001b[1;32m      4\u001b[0m \u001b[0;34m\u001b[0m\u001b[0m\n\u001b[0;32m----> 5\u001b[0;31m \u001b[0;32mfrom\u001b[0m \u001b[0mvae_dist\u001b[0m\u001b[0;34m.\u001b[0m\u001b[0mcore\u001b[0m\u001b[0;34m.\u001b[0m\u001b[0mVAE\u001b[0m \u001b[0;32mimport\u001b[0m \u001b[0mbaselineVAEAutoencoder\u001b[0m\u001b[0;34m\u001b[0m\u001b[0m\n\u001b[0m\u001b[1;32m      6\u001b[0m \u001b[0;32mfrom\u001b[0m \u001b[0mvae_dist\u001b[0m\u001b[0;34m.\u001b[0m\u001b[0mcore\u001b[0m\u001b[0;34m.\u001b[0m\u001b[0mtraining\u001b[0m \u001b[0;32mimport\u001b[0m \u001b[0mtrain\u001b[0m\u001b[0;34m\u001b[0m\u001b[0m\n\u001b[1;32m      7\u001b[0m \u001b[0;32mfrom\u001b[0m \u001b[0mvae_dist\u001b[0m\u001b[0;34m.\u001b[0m\u001b[0mdataset\u001b[0m\u001b[0;34m.\u001b[0m\u001b[0mdataset\u001b[0m \u001b[0;32mimport\u001b[0m \u001b[0mFieldDataset\u001b[0m\u001b[0;34m\u001b[0m\u001b[0m\n",
      "\u001b[0;32m~/dev/vae_dist/vae_dist/core/VAE.py\u001b[0m in \u001b[0;36m<module>\u001b[0;34m\u001b[0m\n\u001b[1;32m      1\u001b[0m \u001b[0;32mimport\u001b[0m \u001b[0mtorch\u001b[0m\u001b[0;34m.\u001b[0m\u001b[0mnn\u001b[0m \u001b[0;32mas\u001b[0m \u001b[0mnn\u001b[0m\u001b[0;34m\u001b[0m\u001b[0m\n\u001b[1;32m      2\u001b[0m \u001b[0;32mimport\u001b[0m \u001b[0mtorch\u001b[0m\u001b[0;34m\u001b[0m\u001b[0m\n\u001b[0;32m----> 3\u001b[0;31m \u001b[0;32mimport\u001b[0m \u001b[0mpytorch_lightning\u001b[0m \u001b[0;32mas\u001b[0m \u001b[0mpl\u001b[0m\u001b[0;34m\u001b[0m\u001b[0m\n\u001b[0m\u001b[1;32m      4\u001b[0m \u001b[0;34m\u001b[0m\u001b[0m\n\u001b[1;32m      5\u001b[0m \u001b[0;34m\u001b[0m\u001b[0m\n",
      "\u001b[0;31mModuleNotFoundError\u001b[0m: No module named 'pytorch_lightning'"
     ]
    }
   ],
   "source": [
    "%load_ext autoreload\n",
    "\n",
    "%autoreload 2\n",
    "\n",
    "from vae_dist.core.VAE import baselineVAEAutoencoder\n",
    "from vae_dist.core.training import train\n",
    "from vae_dist.dataset.dataset import FieldDataset\n",
    "import torch "
   ]
  },
  {
   "cell_type": "code",
   "execution_count": null,
   "metadata": {},
   "outputs": [],
   "source": [
    "device = torch.device('cuda' if torch.cuda.is_available() else 'cpu')\n",
    "root = \"../../data/cpet/\"\n",
    "# load model to gpu\n",
    "dataset_vanilla = FieldDataset(\n",
    "    root, \n",
    "    transform=None, \n",
    "    augmentation=None, \n",
    "    device=device\n",
    "    )\n",
    "\n",
    "\n",
    "dataset_loader_full = torch.utils.data.DataLoader(dataset_vanilla, batch_size=40, shuffle=True)\n"
   ]
  },
  {
   "cell_type": "code",
   "execution_count": null,
   "metadata": {},
   "outputs": [],
   "source": [
    "model = baselineVAEAutoencoder(\n",
    "    irreps = None, # not used rn \n",
    "    in_channels = 3,\n",
    "    out_channels = 16,\n",
    "    kernel_size = 5,\n",
    "    stride = 1,\n",
    "    padding = 0,\n",
    "    dilation = 1,\n",
    "    groups = 1,\n",
    "    bias = True,\n",
    "    padding_mode = 'zeros',\n",
    "    #padding_mode = 'constant',\n",
    "    latent_dim = 4, # final vae hidden layer \n",
    "    num_layers = 2, # not used rn \n",
    "    hidden_dim = 32,\n",
    "    activation = 'relu', # not used rn \n",
    "    dropout = 0.1, # not used rn \n",
    "    batch_norm = False, # not used rn \n",
    "    beta = 1.0,\n",
    "    device = device, \n",
    "    loss = 'elbo'\n",
    ")"
   ]
  },
  {
   "cell_type": "code",
   "execution_count": null,
   "metadata": {},
   "outputs": [],
   "source": [
    "train(model, dataset_loader_full, device = device, epochs = 100)"
   ]
  },
  {
   "attachments": {},
   "cell_type": "markdown",
   "metadata": {},
   "source": [
    "# Lightning Implementation"
   ]
  },
  {
   "cell_type": "code",
   "execution_count": 1,
   "metadata": {},
   "outputs": [
    {
     "name": "stderr",
     "output_type": "stream",
     "text": [
      "/home/santiagovargas/anaconda3/envs/bondnet/lib/python3.7/site-packages/tqdm/auto.py:22: TqdmWarning: IProgress not found. Please update jupyter and ipywidgets. See https://ipywidgets.readthedocs.io/en/stable/user_install.html\n",
      "  from .autonotebook import tqdm as notebook_tqdm\n"
     ]
    }
   ],
   "source": [
    "%load_ext autoreload\n",
    "%autoreload 2\n",
    "\n",
    "import pytorch_lightning as pl\n",
    "from vae_dist.core.CNNLightning import CNNAutoencoderLightning\n",
    "from vae_dist.dataset.dataset import FieldDataset\n",
    "from pytorch_lightning.callbacks import LearningRateMonitor\n",
    "import torch "
   ]
  },
  {
   "cell_type": "code",
   "execution_count": 2,
   "metadata": {},
   "outputs": [],
   "source": [
    "device = torch.device('cuda' if torch.cuda.is_available() else 'cpu')\n",
    "root = \"../../data/cpet/\"\n",
    "# load model to gpu\n",
    "dataset_vanilla = FieldDataset(\n",
    "    root, \n",
    "    transform=None, \n",
    "    augmentation=None, \n",
    "    device=device\n",
    "    )\n",
    "\n",
    "#torch.multiprocessing.set_start_method('spawn')# good solution !!!!\n",
    "\n",
    "# train test split - randomly split dataset into train and test\n",
    "train_size = int(0.8 * len(dataset_vanilla))\n",
    "test_size = len(dataset_vanilla) - train_size\n",
    "train_dataset, test_dataset = torch.utils.data.random_split(dataset_vanilla, [train_size, test_size])\n",
    "\n",
    "\n",
    "dataset_loader_full = torch.utils.data.DataLoader(\n",
    "    dataset_vanilla, \n",
    "    batch_size=40,\n",
    "    shuffle=True,\n",
    "    num_workers=0\n",
    ")\n",
    "\n",
    "dataset_loader_train= torch.utils.data.DataLoader(\n",
    "    train_dataset, \n",
    "    batch_size=10,\n",
    "    shuffle=True,\n",
    "    num_workers=0\n",
    ")\n",
    "\n",
    "dataset_loader_test= torch.utils.data.DataLoader(\n",
    "    test_dataset, \n",
    "    batch_size=10,\n",
    "    shuffle=True,\n",
    "    num_workers=0\n",
    ")\n",
    "\n"
   ]
  },
  {
   "cell_type": "code",
   "execution_count": 3,
   "metadata": {},
   "outputs": [],
   "source": [
    "model = CNNAutoencoderLightning(\n",
    "    irreps = None, # not used rn \n",
    "    in_channels = 3,\n",
    "    out_channels = 16,\n",
    "    kernel_size = 5,\n",
    "    stride = 1,\n",
    "    padding = 0,\n",
    "    dilation = 1,\n",
    "    groups = 1,\n",
    "    bias = True,\n",
    "    padding_mode = 'zeros',\n",
    "    latent_dim = 4, # final vae hidden layer \n",
    "    num_layers = 2, # not used rn \n",
    "    hidden_dim = 32,\n",
    "    activation = 'relu', # not used rn \n",
    "    dropout = 0.1, # not used rn \n",
    "    batch_norm = False, # not used rn \n",
    "    beta = 1.0,\n",
    "    device = device\n",
    ")"
   ]
  },
  {
   "cell_type": "code",
   "execution_count": 4,
   "metadata": {},
   "outputs": [
    {
     "name": "stderr",
     "output_type": "stream",
     "text": [
      "GPU available: True (cuda), used: True\n",
      "TPU available: False, using: 0 TPU cores\n",
      "IPU available: False, using: 0 IPUs\n",
      "HPU available: False, using: 0 HPUs\n",
      "LOCAL_RANK: 0 - CUDA_VISIBLE_DEVICES: [0,1]\n",
      "\n",
      "  | Name    | Type       | Params\n",
      "---------------------------------------\n",
      "0 | encoder | Sequential | 2.5 M \n",
      "1 | decoder | Sequential | 2.6 M \n",
      "---------------------------------------\n",
      "5.1 M     Trainable params\n",
      "0         Non-trainable params\n",
      "5.1 M     Total params\n",
      "20.486    Total estimated model params size (MB)\n"
     ]
    },
    {
     "name": "stdout",
     "output_type": "stream",
     "text": [
      "Sanity Checking DataLoader 0:   0%|          | 0/2 [00:00<?, ?it/s]"
     ]
    },
    {
     "name": "stderr",
     "output_type": "stream",
     "text": [
      "/home/santiagovargas/anaconda3/envs/bondnet/lib/python3.7/site-packages/pytorch_lightning/trainer/connectors/data_connector.py:491: PossibleUserWarning: Your `val_dataloader`'s sampler has shuffling enabled, it is strongly recommended that you turn shuffling off for val/test/predict dataloaders.\n",
      "  category=PossibleUserWarning,\n",
      "/home/santiagovargas/anaconda3/envs/bondnet/lib/python3.7/site-packages/pytorch_lightning/trainer/connectors/data_connector.py:229: PossibleUserWarning: The dataloader, val_dataloader 0, does not have many workers which may be a bottleneck. Consider increasing the value of the `num_workers` argument` (try 32 which is the number of cpus on this machine) in the `DataLoader` init to improve performance.\n",
      "  category=PossibleUserWarning,\n"
     ]
    },
    {
     "name": "stdout",
     "output_type": "stream",
     "text": [
      "                                                                           "
     ]
    },
    {
     "name": "stderr",
     "output_type": "stream",
     "text": [
      "/home/santiagovargas/anaconda3/envs/bondnet/lib/python3.7/site-packages/pytorch_lightning/trainer/connectors/data_connector.py:229: PossibleUserWarning: The dataloader, train_dataloader, does not have many workers which may be a bottleneck. Consider increasing the value of the `num_workers` argument` (try 32 which is the number of cpus on this machine) in the `DataLoader` init to improve performance.\n",
      "  category=PossibleUserWarning,\n",
      "/home/santiagovargas/anaconda3/envs/bondnet/lib/python3.7/site-packages/pytorch_lightning/trainer/trainer.py:1599: PossibleUserWarning: The number of training batches (29) is smaller than the logging interval Trainer(log_every_n_steps=50). Set a lower value for log_every_n_steps if you want to see logs for the training epoch.\n",
      "  category=PossibleUserWarning,\n"
     ]
    },
    {
     "name": "stdout",
     "output_type": "stream",
     "text": [
      "Epoch 48: 100%|██████████| 37/37 [00:00<00:00, 314.40it/s, loss=7.92e+03, v_num=16]Epoch 00049: reducing learning rate of group 0 to 1.0000e-05.\n",
      "Epoch 66: 100%|██████████| 37/37 [00:00<00:00, 334.83it/s, loss=7.91e+03, v_num=16]Epoch 00067: reducing learning rate of group 0 to 1.0000e-06.\n",
      "Epoch 77: 100%|██████████| 37/37 [00:00<00:00, 334.64it/s, loss=7.95e+03, v_num=16]Epoch 00078: reducing learning rate of group 0 to 1.0000e-07.\n",
      "Epoch 88: 100%|██████████| 37/37 [00:00<00:00, 298.99it/s, loss=7.37e+03, v_num=16]Epoch 00089: reducing learning rate of group 0 to 1.0000e-08.\n",
      "Epoch 99: 100%|██████████| 37/37 [00:00<00:00, 319.31it/s, loss=756, v_num=16]     "
     ]
    },
    {
     "name": "stderr",
     "output_type": "stream",
     "text": [
      "`Trainer.fit` stopped: `max_epochs=100` reached.\n"
     ]
    },
    {
     "name": "stdout",
     "output_type": "stream",
     "text": [
      "Epoch 99: 100%|██████████| 37/37 [00:00<00:00, 180.97it/s, loss=756, v_num=16]\n"
     ]
    }
   ],
   "source": [
    "lr_monitor = LearningRateMonitor(logging_interval='step')\n",
    "trainer = pl.Trainer(\n",
    "    limit_train_batches=100, \n",
    "    max_epochs=100, \n",
    "    accelerator='gpu', \n",
    "    devices = [0],\n",
    "    accumulate_grad_batches=5, \n",
    "    callbacks=[\n",
    "        pl.callbacks.EarlyStopping(monitor='val_loss', patience=50, verbose = False),\n",
    "        lr_monitor]\n",
    "    )\n",
    "\n",
    "trainer.fit(model, dataset_loader_train, dataset_loader_test)"
   ]
  },
  {
   "cell_type": "code",
   "execution_count": 8,
   "metadata": {},
   "outputs": [
    {
     "name": "stdout",
     "output_type": "stream",
     "text": [
      "zsh:1: command not found: tensorboard\n"
     ]
    }
   ],
   "source": []
  },
  {
   "cell_type": "code",
   "execution_count": null,
   "metadata": {},
   "outputs": [],
   "source": []
  }
 ],
 "metadata": {
  "kernelspec": {
   "display_name": "bondnet",
   "language": "python",
   "name": "python3"
  },
  "language_info": {
   "codemirror_mode": {
    "name": "ipython",
    "version": 3
   },
   "file_extension": ".py",
   "mimetype": "text/x-python",
   "name": "python",
   "nbconvert_exporter": "python",
   "pygments_lexer": "ipython3",
   "version": "3.7.0"
  },
  "orig_nbformat": 4,
  "vscode": {
   "interpreter": {
    "hash": "c205a9eb4435b0aa27aaf0e9c4340d2b9512e0cc8b49dbd290219ad3711c312f"
   }
  }
 },
 "nbformat": 4,
 "nbformat_minor": 2
}
