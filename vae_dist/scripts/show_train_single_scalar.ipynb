{
 "cells": [
  {
   "cell_type": "code",
   "execution_count": 3,
   "metadata": {},
   "outputs": [
    {
     "data": {
      "text/html": [
       "        <script type=\"text/javascript\">\n",
       "        window.PlotlyConfig = {MathJaxConfig: 'local'};\n",
       "        if (window.MathJax && window.MathJax.Hub && window.MathJax.Hub.Config) {window.MathJax.Hub.Config({SVG: {font: \"STIX-Web\"}});}\n",
       "        if (typeof require !== 'undefined') {\n",
       "        require.undef(\"plotly\");\n",
       "        requirejs.config({\n",
       "            paths: {\n",
       "                'plotly': ['https://cdn.plot.ly/plotly-2.16.1.min']\n",
       "            }\n",
       "        });\n",
       "        require(['plotly'], function(Plotly) {\n",
       "            window._Plotly = Plotly;\n",
       "        });\n",
       "        }\n",
       "        </script>\n",
       "        "
      ]
     },
     "metadata": {},
     "output_type": "display_data"
    }
   ],
   "source": [
    "!export CUDA_VISIBLE_DEVICES=0\n",
    "\n",
    "import torch, os\n",
    "import numpy as np \n",
    "\n",
    "import matplotlib.pyplot as plt\n",
    "\n",
    "from copy import deepcopy\n",
    "from plotly.offline import init_notebook_mode\n",
    "\n",
    "from vae_dist.dataset.dataset import FieldDataset\n",
    "from vae_dist.data.visualize import get_latent_space\n",
    "from vae_dist.core.training_utils import construct_model \n",
    "from vae_dist.dataset.fields import split_and_filter\n",
    "import json \n",
    "\n",
    "init_notebook_mode(connected=True)\n",
    "device = torch.device('cuda' if torch.cuda.is_available() else 'cpu')"
   ]
  },
  {
   "cell_type": "code",
   "execution_count": 2,
   "metadata": {},
   "outputs": [],
   "source": [
    "import plotly.graph_objects as go\n",
    "from plotly.subplots import make_subplots\n",
    "# plot isosurface of a given scalar field \n"
   ]
  },
  {
   "cell_type": "code",
   "execution_count": 3,
   "metadata": {},
   "outputs": [
    {
     "name": "stdout",
     "output_type": "stream",
     "text": [
      "inner_dim:  10\n",
      "channel_in:  1\n",
      "channel_out:  32\n",
      "kernel:  4\n",
      "stride:  1\n",
      "channel_in:  32\n",
      "channel_out:  64\n",
      "kernel:  3\n",
      "stride:  1\n",
      "channel_in:  64\n",
      "channel_out:  128\n",
      "kernel:  3\n",
      "stride:  1\n",
      "channel_in:  128\n",
      "channel_out:  256\n",
      "kernel:  3\n",
      "stride:  1\n",
      "channel_in:  256\n",
      "channel_out:  512\n",
      "kernel:  3\n",
      "stride:  1\n",
      "----------------------------------------------------------------\n",
      "        Layer (type)               Output Shape         Param #\n",
      "================================================================\n",
      "            Conv3d-1       [-1, 32, 18, 18, 18]           2,080\n",
      "              ReLU-2       [-1, 32, 18, 18, 18]               0\n",
      "         ConvBatch-3       [-1, 32, 18, 18, 18]               0\n",
      "            Conv3d-4       [-1, 64, 16, 16, 16]          55,360\n",
      "              ReLU-5       [-1, 64, 16, 16, 16]               0\n",
      "         ConvBatch-6       [-1, 64, 16, 16, 16]               0\n",
      "            Conv3d-7      [-1, 128, 14, 14, 14]         221,312\n",
      "              ReLU-8      [-1, 128, 14, 14, 14]               0\n",
      "         ConvBatch-9      [-1, 128, 14, 14, 14]               0\n",
      "           Conv3d-10      [-1, 256, 12, 12, 12]         884,992\n",
      "             ReLU-11      [-1, 256, 12, 12, 12]               0\n",
      "        ConvBatch-12      [-1, 256, 12, 12, 12]               0\n",
      "           Conv3d-13      [-1, 512, 10, 10, 10]       3,539,456\n",
      "             ReLU-14      [-1, 512, 10, 10, 10]               0\n",
      "        ConvBatch-15      [-1, 512, 10, 10, 10]               0\n",
      "================================================================\n",
      "Total params: 4,703,200\n",
      "Trainable params: 4,703,200\n",
      "Non-trainable params: 0\n",
      "----------------------------------------------------------------\n",
      "Input size (MB): 0.04\n",
      "Forward/backward pass size (MB): 40.15\n",
      "Params size (MB): 17.94\n",
      "Estimated Total Size (MB): 58.13\n",
      "----------------------------------------------------------------\n",
      "----------------------------------------------------------------\n",
      "        Layer (type)               Output Shape         Param #\n",
      "================================================================\n",
      "            Conv3d-1       [-1, 32, 18, 18, 18]           2,080\n",
      "              ReLU-2       [-1, 32, 18, 18, 18]               0\n",
      "         ConvBatch-3       [-1, 32, 18, 18, 18]               0\n",
      "            Conv3d-4       [-1, 64, 16, 16, 16]          55,360\n",
      "              ReLU-5       [-1, 64, 16, 16, 16]               0\n",
      "         ConvBatch-6       [-1, 64, 16, 16, 16]               0\n",
      "            Conv3d-7      [-1, 128, 14, 14, 14]         221,312\n",
      "              ReLU-8      [-1, 128, 14, 14, 14]               0\n",
      "         ConvBatch-9      [-1, 128, 14, 14, 14]               0\n",
      "           Conv3d-10      [-1, 256, 12, 12, 12]         884,992\n",
      "             ReLU-11      [-1, 256, 12, 12, 12]               0\n",
      "        ConvBatch-12      [-1, 256, 12, 12, 12]               0\n",
      "           Conv3d-13      [-1, 512, 10, 10, 10]       3,539,456\n",
      "             ReLU-14      [-1, 512, 10, 10, 10]               0\n",
      "        ConvBatch-15      [-1, 512, 10, 10, 10]               0\n",
      "          Flatten-16               [-1, 512000]               0\n",
      "           Linear-17                 [-1, 1000]     512,001,000\n",
      "             ReLU-18                 [-1, 1000]               0\n",
      "           Linear-19                  [-1, 250]         250,250\n",
      "             ReLU-20                  [-1, 250]               0\n",
      "           Linear-21                  [-1, 100]          25,100\n",
      "             ReLU-22                  [-1, 100]               0\n",
      "           Linear-23                  [-1, 100]          10,100\n",
      "             ReLU-24                  [-1, 100]               0\n",
      "================================================================\n",
      "Total params: 516,989,650\n",
      "Trainable params: 516,989,650\n",
      "Non-trainable params: 0\n",
      "----------------------------------------------------------------\n",
      "Input size (MB): 0.04\n",
      "Forward/backward pass size (MB): 44.08\n",
      "Params size (MB): 1972.16\n",
      "Estimated Total Size (MB): 2016.28\n",
      "----------------------------------------------------------------\n",
      "----------------------------------------------------------------\n",
      "        Layer (type)               Output Shape         Param #\n",
      "================================================================\n",
      "            Linear-1                  [-1, 100]          10,100\n",
      "            Linear-2                  [-1, 250]          25,250\n",
      "              ReLU-3                  [-1, 250]               0\n",
      "            Linear-4                 [-1, 1000]         251,000\n",
      "              ReLU-5                 [-1, 1000]               0\n",
      "            Linear-6               [-1, 512000]     512,512,000\n",
      "              ReLU-7               [-1, 512000]               0\n",
      "         Unflatten-8      [-1, 512, 10, 10, 10]               0\n",
      "================================================================\n",
      "Total params: 512,798,350\n",
      "Trainable params: 512,798,350\n",
      "Non-trainable params: 0\n",
      "----------------------------------------------------------------\n",
      "Input size (MB): 0.00\n",
      "Forward/backward pass size (MB): 11.74\n",
      "Params size (MB): 1956.17\n",
      "Estimated Total Size (MB): 1967.91\n",
      "----------------------------------------------------------------\n",
      "----------------------------------------------------------------\n",
      "        Layer (type)               Output Shape         Param #\n",
      "================================================================\n",
      "   ConvTranspose3d-1      [-1, 256, 12, 12, 12]       3,539,200\n",
      "              ReLU-2      [-1, 256, 12, 12, 12]               0\n",
      "       UpConvBatch-3      [-1, 256, 12, 12, 12]               0\n",
      "   ConvTranspose3d-4      [-1, 128, 14, 14, 14]         884,864\n",
      "              ReLU-5      [-1, 128, 14, 14, 14]               0\n",
      "       UpConvBatch-6      [-1, 128, 14, 14, 14]               0\n",
      "   ConvTranspose3d-7       [-1, 64, 16, 16, 16]         221,248\n",
      "              ReLU-8       [-1, 64, 16, 16, 16]               0\n",
      "       UpConvBatch-9       [-1, 64, 16, 16, 16]               0\n",
      "  ConvTranspose3d-10       [-1, 32, 18, 18, 18]          55,328\n",
      "             ReLU-11       [-1, 32, 18, 18, 18]               0\n",
      "      UpConvBatch-12       [-1, 32, 18, 18, 18]               0\n",
      "  ConvTranspose3d-13        [-1, 1, 21, 21, 21]           2,049\n",
      "         Identity-14        [-1, 1, 21, 21, 21]               0\n",
      "      UpConvBatch-15        [-1, 1, 21, 21, 21]               0\n",
      "================================================================\n",
      "Total params: 4,702,689\n",
      "Trainable params: 4,702,689\n",
      "Non-trainable params: 0\n",
      "----------------------------------------------------------------\n",
      "Input size (MB): 1.95\n",
      "Forward/backward pass size (MB): 28.65\n",
      "Params size (MB): 17.94\n",
      "Estimated Total Size (MB): 48.54\n",
      "----------------------------------------------------------------\n",
      "Model Created!\n"
     ]
    }
   ],
   "source": [
    "model_list = []\n",
    "model_names = \"model_single_datapoint.ckpt\"\n",
    "\n",
    "for model_type in ['auto']:\n",
    "    options = json.load(open('./options/options_{}_default.json'.format(model_type)))\n",
    "    model_temp = construct_model(model_type, options)\n",
    "    model_temp.load_model(\"./log_version_{}_1/{}\".format(model_type, model_names))\n",
    "    model_temp.to(device)\n",
    "    model_list.append(deepcopy(model_temp))"
   ]
  },
  {
   "cell_type": "code",
   "execution_count": 4,
   "metadata": {},
   "outputs": [
    {
     "name": "stdout",
     "output_type": "stream",
     "text": [
      "Largest value in dataset:  5.230252635633907\n",
      "Smallest value in dataset:  0.0\n",
      "Nan values in dataset:  False\n",
      "Inf values in dataset:  False\n"
     ]
    }
   ],
   "source": [
    "root = '../../data/single_field/'\n",
    "\n",
    "dataset_single = FieldDataset(\n",
    "    root, \n",
    "    transform=False, \n",
    "    augmentation=False,\n",
    "    standardize=True,\n",
    "    lower_filter=True,\n",
    "    log_scale=True, \n",
    "    scalar=True,\n",
    "    device=device\n",
    "    )\n",
    "\n",
    "dataset_loader_full = torch.utils.data.DataLoader(\n",
    "                dataset_single, \n",
    "                batch_size=1,\n",
    "                shuffle=True,\n",
    "                num_workers=0\n",
    "            )"
   ]
  },
  {
   "cell_type": "code",
   "execution_count": 5,
   "metadata": {},
   "outputs": [
    {
     "name": "stdout",
     "output_type": "stream",
     "text": [
      "Aug\n",
      "Total number of fields:  5\n",
      "Aug\n"
     ]
    },
    {
     "ename": "IndexError",
     "evalue": "list index out of range",
     "output_type": "error",
     "traceback": [
      "\u001b[0;31m---------------------------------------------------------------------------\u001b[0m",
      "\u001b[0;31mIndexError\u001b[0m                                Traceback (most recent call last)",
      "\u001b[0;32m/tmp/ipykernel_14553/2006107809.py\u001b[0m in \u001b[0;36m<module>\u001b[0;34m\u001b[0m\n\u001b[1;32m     29\u001b[0m     \u001b[0;31m# plot the data\u001b[0m\u001b[0;34m\u001b[0m\u001b[0;34m\u001b[0m\u001b[0m\n\u001b[1;32m     30\u001b[0m     \u001b[0mprint\u001b[0m\u001b[0;34m(\u001b[0m\u001b[0;34m\"Aug\"\u001b[0m\u001b[0;34m)\u001b[0m\u001b[0;34m\u001b[0m\u001b[0m\n\u001b[0;32m---> 31\u001b[0;31m     \u001b[0mlatent_space_aug\u001b[0m \u001b[0;34m=\u001b[0m \u001b[0mget_latent_space\u001b[0m\u001b[0;34m(\u001b[0m\u001b[0mmodel_list\u001b[0m\u001b[0;34m[\u001b[0m\u001b[0mi\u001b[0m\u001b[0;34m]\u001b[0m\u001b[0;34m,\u001b[0m \u001b[0mdataset_single\u001b[0m\u001b[0;34m,\u001b[0m \u001b[0mcomp\u001b[0m\u001b[0;34m=\u001b[0m\u001b[0;34m[\u001b[0m\u001b[0;36m0\u001b[0m\u001b[0;34m,\u001b[0m \u001b[0;36m1\u001b[0m\u001b[0;34m]\u001b[0m\u001b[0;34m,\u001b[0m \u001b[0mlatent_dim\u001b[0m\u001b[0;34m=\u001b[0m\u001b[0;36m100\u001b[0m\u001b[0;34m)\u001b[0m\u001b[0;34m\u001b[0m\u001b[0m\n\u001b[0m\u001b[1;32m     32\u001b[0m     \u001b[0mmean_aug\u001b[0m \u001b[0;34m=\u001b[0m \u001b[0mmean_distance\u001b[0m\u001b[0;34m(\u001b[0m\u001b[0mlatent_space_aug\u001b[0m\u001b[0;34m)\u001b[0m\u001b[0;34m\u001b[0m\u001b[0m\n\u001b[1;32m     33\u001b[0m \u001b[0;34m\u001b[0m\u001b[0m\n",
      "\u001b[0;31mIndexError\u001b[0m: list index out of range"
     ]
    },
    {
     "data": {
      "image/png": "[encoded data removed]",
      "text/plain": [
       "<Figure size 1800x360 with 2 Axes>"
      ]
     },
     "metadata": {
      "needs_background": "light"
     },
     "output_type": "display_data"
    }
   ],
   "source": [
    "def mean_distance(latent_space):\n",
    "    mean_dist = 0\n",
    "    for i in range(latent_space.shape[0]):\n",
    "        for j in range(latent_space.shape[0]):\n",
    "            mean_dist += np.linalg.norm(latent_space[i] - latent_space[j])\n",
    "    mean_dist /= latent_space.shape[0]**2\n",
    "    return mean_dist\n",
    "\n",
    "\n",
    "def get_latent_space(model, dataset, comp=[0, 2], latent_dim=10):\n",
    "    latent_space = []\n",
    "    # convert load to numpy \n",
    "    dataset_loader_np = []\n",
    "    print(\"Total number of fields: \", len(dataset))\n",
    "    for ind in range(len(dataset)):\n",
    "        field=dataset[ind].reshape(1, 1, 21, 21, 21)\n",
    "        latent = model.latent(field)\n",
    "        #print(latent.shape)\n",
    "        latent_space.append(latent.detach().cpu().numpy())\n",
    "    if comp == []:\n",
    "        return np.array(latent_space).reshape(-1, latent_dim)\n",
    "    else: \n",
    "        return np.array(latent_space).reshape(-1, latent_dim)[:, comp]\n",
    "    \n",
    "\n",
    "fig, axs = plt.subplots(1, 2, figsize=(25, 5))\n",
    "# iterate over the sub plots\n",
    "for i, ax in enumerate(axs.flatten()):\n",
    "    # plot the data\n",
    "    print(\"Aug\")\n",
    "    latent_space_aug = get_latent_space(model_list[i], dataset_single, comp=[0, 1], latent_dim=100)\n",
    "    mean_aug = mean_distance(latent_space_aug)\n",
    "\n",
    "    ax.scatter(\n",
    "        latent_space_aug[:, 0], \n",
    "        latent_space_aug[:, 1], c=\"red\", \n",
    "        label=\"aug, mean dist: {:.6f}\".format(mean_aug))\n",
    "\n",
    "    # legend bottom right\n",
    "    ax.legend(loc=\"lower right\")\n",
    "    ax.set_title(f\"Model {i+1}\")"
   ]
  },
  {
   "cell_type": "code",
   "execution_count": 16,
   "metadata": {},
   "outputs": [],
   "source": []
  },
  {
   "cell_type": "code",
   "execution_count": 20,
   "metadata": {},
   "outputs": [
    {
     "data": {
      "application/vnd.plotly.v1+json": {
       "config": {
        "plotlyServerURL": "https://plot.ly"
       },
       "data": [
        {
         "scene": "scene",
         "type": "surface",
         "x": [
          0,
          0.05,
          0.1,
          0.15000000000000002,
          0.2,
          0.25,
          0.30000000000000004,
          0.35000000000000003,
          0.4,
          0.45,
          0.5,
          0.55,
          0.6000000000000001,
          0.65,
          0.7000000000000001,
          0.75,
          0.8,
          0.8500000000000001,
          0.9,
          0.9500000000000001,
          1
         ],
         "y": [
          0,
          0.05,
          0.1,
          0.15000000000000002,
          0.2,
          0.25,
          0.30000000000000004,
          0.35000000000000003,
          0.4,
          0.45,
          0.5,
          0.55,
          0.6000000000000001,
          0.65,
          0.7000000000000001,
          0.75,
          0.8,
          0.8500000000000001,
          0.9,
          0.9500000000000001,
          1
         ],
         "z": [
          [
           [
            [
             2.8581929206848145,
             2.634044885635376,
             1.8594181537628174,
             0,
             0,
             0,
             0,
             0,
             0,
             0,
             0,
             0,
             0,
             0,
             0,
             0,
             0,
             0,
             0,
             0,
             0
            ],
            [
             0.418710321187973,
             0.13102826476097107,
             0.3576744496822357,
             0,
             0,
             0,
             0,
             0,
             0,
             0,
             0,
             0,
             0,
             0,
             0,
             0,
             0,
             0,
             0,
             0,
             0
            ],
            [
             0,
             0,
             0,
             0,
             0,
             0,
             0,
             0,
             0,
             0,
             0,
             0,
             0,
             0,
             0,
             0,
             0,
             0,
             0,
             0,
             0
            ],
            [
             3.5290040969848633,
             1.8066481351852417,
             2.4965057373046875,
             0,
             0,
             0,
             0,
             0,
             0,
             0,
             0,
             0,
             0,
             0,
             0,
             0,
             0,
             0,
             0,
             0,
             0
            ],
            [
             0.40546509623527527,
             0.12221763283014297,
             0.3506568670272827,
             0,
             0,
             0,
             0,
             0,
             0,
             0,
             0,
             0,
             0,
             0,
             0,
             0,
             0,
             0,
             0,
             0,
             0
            ],
            [
             0,
             0,
             0,
             0,
             0,
             0,
             0,
             0,
             0,
             0,
             0,
             0,
             0,
             0,
             0,
             0,
             0,
             0,
             0,
             0,
             0
            ],
            [
             2.336986541748047,
             2.314513683319092,
             1.3635374307632446,
             0,
             0,
             0,
             0,
             0,
             0,
             0,
             0,
             0,
             0,
             0,
             0,
             0,
             0,
             0,
             0,
             0,
             0
            ],
            [
             0.3852623999118805,
             0.13102826476097107,
             0.3364722430706024,
             0,
             0,
             0,
             0,
             0,
             0,
             0,
             0,
             0,
             0,
             0,
             0,
             0,
             0,
             0,
             0,
             0,
             0
            ],
            [
             0,
             0,
             0,
             0,
             0,
             0,
             0,
             0,
             0,
             0,
             0,
             0,
             0,
             0,
             0,
             0,
             0,
             0,
             0,
             0,
             0
            ],
            [
             1.3402503728866577,
             1.5727739334106445,
             0.4946962296962738,
             0,
             0,
             0,
             0,
             0,
             0,
             0,
             0,
             0,
             0,
             0,
             0,
             0,
             0,
             0,
             0,
             0,
             0
            ],
            [
             0,
             0,
             0,
             0,
             0,
             0,
             0,
             0,
             0,
             0,
             0,
             0,
             0,
             0,
             0,
             0,
             0,
             0,
             0,
             0,
             0
            ],
            [
             0,
             0,
             0,
             0,
             0,
             0,
             0,
             0,
             0,
             0,
             0,
             0,
             0,
             0,
             0,
             0,
             0,
             0,
             0,
             0,
             0
            ],
            [
             0.7654678225517273,
             0.9858167767524719,
             0.13102826476097107,
             0,
             0,
             0,
             0,
             0,
             0,
             0,
             0,
             0,
             0,
             0,
             0,
             0,
             0,
             0,
             0,
             0,
             0
            ],
            [
             0,
             0,
             0,
             0,
             0,
             0,
             0,
             0,
             0,
             0,
             0,
             0,
             0,
             0,
             0,
             0,
             0,
             0,
             0,
             0,
             0
            ],
            [
             0,
             0,
             0,
             0,
             0,
             0,
             0,
             0,
             0,
             0,
             0,
             0,
             0,
             0,
             0,
             0,
             0,
             0,
             0,
             0,
             0
            ],
            [
             0.3852623999118805,
             0.4946962296962738,
             0.09531018137931824,
             0,
             0,
             0,
             0,
             0,
             0,
             0,
             0,
             0,
             0,
             0,
             0,
             0,
             0,
             0,
             0,
             0,
             0
            ],
            [
             0,
             0,
             0,
             0,
             0,
             0,
             0,
             0,
             0,
             0,
             0,
             0,
             0,
             0,
             0,
             0,
             0,
             0,
             0,
             0,
             0
            ],
            [
             0,
             0,
             0,
             0,
             0,
             0,
             0,
             0,
             0,
             0,
             0,
             0,
             0,
             0,
             0,
             0,
             0,
             0,
             0,
             0,
             0
            ],
            [
             0,
             0,
             0,
             0,
             0,
             0,
             0,
             0,
             0,
             0,
             0,
             0,
             0,
             0,
             0,
             0,
             0,
             0,
             0,
             0,
             0
            ],
            [
             0,
             0,
             0,
             0,
             0,
             0,
             0,
             0,
             0,
             0,
             0,
             0,
             0,
             0,
             0,
             0,
             0,
             0,
             0,
             0,
             0
            ],
            [
             0,
             0,
             0,
             0,
             0,
             0,
             0,
             0,
             0,
             0,
             0,
             0,
             0,
             0,
             0,
             0,
             0,
             0,
             0,
             0,
             0
            ]
           ]
          ]
         ]
        },
        {
         "scene": "scene2",
         "type": "surface",
         "x": [
          0,
          0.05,
          0.1,
          0.15000000000000002,
          0.2,
          0.25,
          0.30000000000000004,
          0.35000000000000003,
          0.4,
          0.45,
          0.5,
          0.55,
          0.6000000000000001,
          0.65,
          0.7000000000000001,
          0.75,
          0.8,
          0.8500000000000001,
          0.9,
          0.9500000000000001,
          1
         ],
         "y": [
          0,
          0.05,
          0.1,
          0.15000000000000002,
          0.2,
          0.25,
          0.30000000000000004,
          0.35000000000000003,
          0.4,
          0.45,
          0.5,
          0.55,
          0.6000000000000001,
          0.65,
          0.7000000000000001,
          0.75,
          0.8,
          0.8500000000000001,
          0.9,
          0.9500000000000001,
          1
         ],
         "z": [
          [
           [
            0.062247153371572495,
            0.09638500213623047,
            0.08637259900569916,
            0.07750410586595535,
            0.07873770594596863,
            0.07843693345785141,
            0.07875636965036392,
            0.07816331088542938,
            0.07846422493457794,
            0.07823681831359863,
            0.07828044891357422,
            0.07841826975345612,
            0.07863625884056091,
            0.07841578125953674,
            0.0782575011253357,
            0.07869301736354828,
            0.07884306460618973,
            0.07861381769180298,
            0.08055521547794342,
            0.049990877509117126,
            0.06058204919099808
           ],
           [
            0.06918910890817642,
            0.1049632728099823,
            0.084438756108284,
            0.0808212086558342,
            0.08354346454143524,
            0.08014293015003204,
            0.08245892822742462,
            0.08056358993053436,
            0.08203454315662384,
            0.08064153790473938,
            0.08087527751922607,
            0.08040306717157364,
            0.08130753040313721,
            0.08022908121347427,
            0.080376036465168,
            0.08093167096376419,
            0.0768209844827652,
            0.07693566381931305,
            0.08084574341773987,
            0.045464202761650085,
            0.058380790054798126
           ],
           [
            0.05640829727053642,
            0.08060918748378754,
            0.07052383571863174,
            0.06682605296373367,
            0.06796396523714066,
            0.06154295429587364,
            0.06286957859992981,
            0.062432948499917984,
            0.06467905640602112,
            0.061437223106622696,
            0.06333253532648087,
            0.06250207871198654,
            0.06411479413509369,
            0.06292560696601868,
            0.06337213516235352,
            0.06512326747179031,
            0.06454449146986008,
            0.06332900375127792,
            0.07252993434667587,
            0.052004728466272354,
            0.060538679361343384
           ],
           [
            0.04618438333272934,
            0.07375302165746689,
            0.05709775537252426,
            0.038841914385557175,
            0.04533793777227402,
            0.04198291152715683,
            0.04527401551604271,
            0.044567231088876724,
            0.046134594827890396,
            0.047295648604631424,
            0.04392702504992485,
            0.042976126074790955,
            0.04607117921113968,
            0.04557150974869728,
            0.04531281441450119,
            0.04605654999613762,
            0.040581658482551575,
            0.03637825697660446,
            0.05236776918172836,
            0.03112693876028061,
            0.049571603536605835
           ],
           [
            0.04548507183790207,
            0.07962240278720856,
            0.06822861731052399,
            0.056300126016139984,
            0.0656801089644432,
            0.06093016266822815,
            0.06285840272903442,
            0.06387706845998764,
            0.06421878933906555,
            0.059490375220775604,
            0.06629195809364319,
            0.06543031334877014,
            0.06393738836050034,
            0.060310352593660355,
            0.06372498720884323,
            0.06200920417904854,
            0.0540706142783165,
            0.04817955195903778,
            0.059862926602363586,
            0.03151913732290268,
            0.04441650211811066
           ],
           [
            0.04659297317266464,
            0.07951515167951584,
            0.0667896568775177,
            0.05160639435052872,
            0.05853397026658058,
            0.05468859523534775,
            0.05570455268025398,
            0.06008842960000038,
            0.05040588974952698,
            0.051717039197683334,
            0.057957883924245834,
            0.05091889947652817,
            0.059286296367645264,
            0.05123100429773331,
            0.05647248774766922,
            0.058949753642082214,
            0.0503372885286808,
            0.03809052333235741,
            0.05508342385292053,
            0.0319107249379158,
            0.046503037214279175
           ],
           [
            0.046739138662815094,
            0.08023461699485779,
            0.06858837604522705,
            0.053547535091638565,
            0.05446931719779968,
            0.048638008534908295,
            0.054958123713731766,
            0.055196020752191544,
            0.05449007451534271,
            0.05008435249328613,
            0.049487873911857605,
            0.0545097291469574,
            0.05803142860531807,
            0.05442347377538681,
            0.05607489496469498,
            0.05574604123830795,
            0.04977385699748993,
            0.03430696576833725,
            0.053564347326755524,
            0.03381180763244629,
            0.0462925061583519
           ],
           [
            0.047046128660440445,
            0.08051471412181854,
            0.0699634850025177,
            0.05121315270662308,
            0.056581564247608185,
            0.04694299399852753,
            0.04609677195549011,
            0.048843301832675934,
            0.05327843502163887,
            0.04294595867395401,
            0.055125556886196136,
            0.05393809825181961,
            0.05098925530910492,
            0.0500447079539299,
            0.05108992010354996,
            0.05381583422422409,
            0.04849165678024292,
            0.03743046522140503,
            0.054847121238708496,
            0.032127100974321365,
            0.045980848371982574
           ],
           [
            0.04711362347006798,
            0.07961583137512207,
            0.07134319841861725,
            0.053035616874694824,
            0.05320969969034195,
            0.04703288897871971,
            0.054793357849121094,
            0.047025345265865326,
            0.05850476026535034,
            0.0581420361995697,
            0.05642208456993103,
            0.05467921867966652,
            0.05457969382405281,
            0.045020367950201035,
            0.048052333295345306,
            0.05442492291331291,
            0.04304493963718414,
            0.035193830728530884,
            0.05327163636684418,
            0.03209562227129936,
            0.04578675329685211
           ],
           [
            0.04749564081430435,
            0.07959413528442383,
            0.0704263225197792,
            0.053693294525146484,
            0.052424415946006775,
            0.04337318614125252,
            0.047333262860774994,
            0.04582616686820984,
            0.05055268108844757,
            0.05199357494711876,
            0.04796450957655907,
            0.046539220958948135,
            0.0599341094493866,
            0.052869196981191635,
            0.05216402933001518,
            0.05422668531537056,
            0.043622978031635284,
            0.03619067743420601,
            0.05464519187808037,
            0.03348010033369064,
            0.045492641627788544
           ],
           [
            0.04702581465244293,
            0.08060342073440552,
            0.07073761522769928,
            0.049263786524534225,
            0.05261247232556343,
            0.051247112452983856,
            0.06261797994375229,
            0.05060847848653793,
            0.053750451654195786,
            0.04713328555226326,
            0.046676136553287506,
            0.05800394341349602,
            0.055891819298267365,
            0.0470912903547287,
            0.0447956807911396,
            0.05531879886984825,
            0.04612364619970322,
            0.03672799840569496,
            0.05186154693365097,
            0.03197597712278366,
            0.04554994776844978
           ],
           [
            0.04695659875869751,
            0.08161936700344086,
            0.07101831585168839,
            0.047645267099142075,
            0.0526663213968277,
            0.05293098837137222,
            0.059063367545604706,
            0.04743519797921181,
            0.04140834882855415,
            0.05598681420087814,
            0.05487200245261192,
            0.047510914504528046,
            0.04975607246160507,
            0.052011534571647644,
            0.045835450291633606,
            0.050174206495285034,
            0.04674961045384407,
            0.037502169609069824,
            0.05468287318944931,
            0.033464111387729645,
            0.046029627323150635
           ],
           [
            0.04701869934797287,
            0.08047854900360107,
            0.07091011852025986,
            0.05484798550605774,
            0.06058618426322937,
            0.04776429012417793,
            0.04392604902386665,
            0.049049682915210724,
            0.04345754534006119,
            0.05262724682688713,
            0.04734604060649872,
            0.05733339115977287,
            0.0484713539481163,
            0.04218549653887749,
            0.049808572977781296,
            0.05245096981525421,
            0.043423447757959366,
            0.03686661273241043,
            0.05344998836517334,
            0.03233041241765022,
            0.045987702906131744
           ],
           [
            0.04740758240222931,
            0.07974473387002945,
            0.0685121938586235,
            0.053179673850536346,
            0.05268228054046631,
            0.05014315992593765,
            0.05205202475190163,
            0.04590104892849922,
            0.05303545296192169,
            0.04582454264163971,
            0.05791527405381203,
            0.05960720777511597,
            0.05195309594273567,
            0.04920694977045059,
            0.051275890320539474,
            0.05137178674340248,
            0.04068316891789436,
            0.03346920758485794,
            0.05271867290139198,
            0.03201316297054291,
            0.04598298668861389
           ],
           [
            0.04677698761224747,
            0.08118242025375366,
            0.07004634290933609,
            0.05066011846065521,
            0.05126270651817322,
            0.046159714460372925,
            0.054577745497226715,
            0.04711124673485756,
            0.052123915404081345,
            0.05096329003572464,
            0.05624010041356087,
            0.05133519321680069,
            0.05567712336778641,
            0.047652311623096466,
            0.050933562219142914,
            0.05446184054017067,
            0.050484709441661835,
            0.0359061025083065,
            0.05264042317867279,
            0.033899009227752686,
            0.04640465974807739
           ],
           [
            0.04746154695749283,
            0.08062990009784698,
            0.0709596499800682,
            0.05051138997077942,
            0.04972879961133003,
            0.04609336331486702,
            0.04792192205786705,
            0.045833852142095566,
            0.0469195693731308,
            0.05013959854841232,
            0.04555691406130791,
            0.05373033881187439,
            0.047856733202934265,
            0.052915316075086594,
            0.04866769537329674,
            0.04685785621404648,
            0.043268680572509766,
            0.03352983295917511,
            0.05250240117311478,
            0.03081534430384636,
            0.0463608019053936
           ],
           [
            0.04736288636922836,
            0.08111952990293503,
            0.0712287500500679,
            0.05697856843471527,
            0.05631270632147789,
            0.05234120786190033,
            0.05028120428323746,
            0.05250971391797066,
            0.05031935125589371,
            0.058517150580883026,
            0.05237231403589249,
            0.053180500864982605,
            0.052832357585430145,
            0.05202087014913559,
            0.04975312575697899,
            0.054884959012269974,
            0.045867521315813065,
            0.035340309143066406,
            0.05618053674697876,
            0.03042766824364662,
            0.04536762088537216
           ],
           [
            0.043694525957107544,
            0.07813004404306412,
            0.07240473479032516,
            0.053866587579250336,
            0.05419581010937691,
            0.049195416271686554,
            0.05587510019540787,
            0.051911789923906326,
            0.0503966361284256,
            0.05342593044042587,
            0.054316502064466476,
            0.05013527721166611,
            0.04995120316743851,
            0.050326667726039886,
            0.051486603915691376,
            0.053667597472667694,
            0.05017966032028198,
            0.03903719037771225,
            0.05396529287099838,
            0.03375227004289627,
            0.047515496611595154
           ],
           [
            0.04915309697389603,
            0.049671366810798645,
            0.04601576179265976,
            0.032410863786935806,
            0.03594633936882019,
            0.03558190539479256,
            0.03408171236515045,
            0.03528188169002533,
            0.03501569852232933,
            0.03343487158417702,
            0.03659952059388161,
            0.03213581442832947,
            0.03655334562063217,
            0.03444288671016693,
            0.034071020781993866,
            0.03558436036109924,
            0.03016822785139084,
            0.021248865872621536,
            0.03696870803833008,
            0.04986470192670822,
            0.052446767687797546
           ],
           [
            0.04239032790064812,
            0.03575902432203293,
            0.03356657549738884,
            0.01866402104496956,
            0.019561074674129486,
            0.01503218337893486,
            0.017291530966758728,
            0.01680421456694603,
            0.016241032630205154,
            0.016650743782520294,
            0.017996404320001602,
            0.01692906767129898,
            0.01601051166653633,
            0.01699799671769142,
            0.01587449386715889,
            0.016693145036697388,
            0.015385255217552185,
            0.011384215205907822,
            0.03129472956061363,
            0.044116854667663574,
            0.049440979957580566
           ],
           [
            0.05250522866845131,
            0.05254828557372093,
            0.03694702684879303,
            0.01648890972137451,
            0.015490561723709106,
            0.01660367101430893,
            0.016814183443784714,
            0.0161299929022789,
            0.016696490347385406,
            0.016398455947637558,
            0.016414131969213486,
            0.016839273273944855,
            0.016539663076400757,
            0.016124077141284943,
            0.016441550105810165,
            0.016638264060020447,
            0.015321176499128342,
            0.01729021593928337,
            0.030091464519500732,
            0.035400230437517166,
            0.05267694592475891
           ]
          ]
         ]
        }
       ],
       "layout": {
        "scene": {
         "domain": {
          "x": [
           0,
           0.45
          ],
          "y": [
           0,
           1
          ]
         }
        },
        "scene2": {
         "domain": {
          "x": [
           0.55,
           1
          ],
          "y": [
           0,
           1
          ]
         }
        },
        "template": {
         "data": {
          "bar": [
           {
            "error_x": {
             "color": "#2a3f5f"
            },
            "error_y": {
             "color": "#2a3f5f"
            },
            "marker": {
             "line": {
              "color": "#E5ECF6",
              "width": 0.5
             },
             "pattern": {
              "fillmode": "overlay",
              "size": 10,
              "solidity": 0.2
             }
            },
            "type": "bar"
           }
          ],
          "barpolar": [
           {
            "marker": {
             "line": {
              "color": "#E5ECF6",
              "width": 0.5
             },
             "pattern": {
              "fillmode": "overlay",
              "size": 10,
              "solidity": 0.2
             }
            },
            "type": "barpolar"
           }
          ],
          "carpet": [
           {
            "aaxis": {
             "endlinecolor": "#2a3f5f",
             "gridcolor": "white",
             "linecolor": "white",
             "minorgridcolor": "white",
             "startlinecolor": "#2a3f5f"
            },
            "baxis": {
             "endlinecolor": "#2a3f5f",
             "gridcolor": "white",
             "linecolor": "white",
             "minorgridcolor": "white",
             "startlinecolor": "#2a3f5f"
            },
            "type": "carpet"
           }
          ],
          "choropleth": [
           {
            "colorbar": {
             "outlinewidth": 0,
             "ticks": ""
            },
            "type": "choropleth"
           }
          ],
          "contour": [
           {
            "colorbar": {
             "outlinewidth": 0,
             "ticks": ""
            },
            "colorscale": [
             [
              0,
              "#0d0887"
             ],
             [
              0.1111111111111111,
              "#46039f"
             ],
             [
              0.2222222222222222,
              "#7201a8"
             ],
             [
              0.3333333333333333,
              "#9c179e"
             ],
             [
              0.4444444444444444,
              "#bd3786"
             ],
             [
              0.5555555555555556,
              "#d8576b"
             ],
             [
              0.6666666666666666,
              "#ed7953"
             ],
             [
              0.7777777777777778,
              "#fb9f3a"
             ],
             [
              0.8888888888888888,
              "#fdca26"
             ],
             [
              1,
              "#f0f921"
             ]
            ],
            "type": "contour"
           }
          ],
          "contourcarpet": [
           {
            "colorbar": {
             "outlinewidth": 0,
             "ticks": ""
            },
            "type": "contourcarpet"
           }
          ],
          "heatmap": [
           {
            "colorbar": {
             "outlinewidth": 0,
             "ticks": ""
            },
            "colorscale": [
             [
              0,
              "#0d0887"
             ],
             [
              0.1111111111111111,
              "#46039f"
             ],
             [
              0.2222222222222222,
              "#7201a8"
             ],
             [
              0.3333333333333333,
              "#9c179e"
             ],
             [
              0.4444444444444444,
              "#bd3786"
             ],
             [
              0.5555555555555556,
              "#d8576b"
             ],
             [
              0.6666666666666666,
              "#ed7953"
             ],
             [
              0.7777777777777778,
              "#fb9f3a"
             ],
             [
              0.8888888888888888,
              "#fdca26"
             ],
             [
              1,
              "#f0f921"
             ]
            ],
            "type": "heatmap"
           }
          ],
          "heatmapgl": [
           {
            "colorbar": {
             "outlinewidth": 0,
             "ticks": ""
            },
            "colorscale": [
             [
              0,
              "#0d0887"
             ],
             [
              0.1111111111111111,
              "#46039f"
             ],
             [
              0.2222222222222222,
              "#7201a8"
             ],
             [
              0.3333333333333333,
              "#9c179e"
             ],
             [
              0.4444444444444444,
              "#bd3786"
             ],
             [
              0.5555555555555556,
              "#d8576b"
             ],
             [
              0.6666666666666666,
              "#ed7953"
             ],
             [
              0.7777777777777778,
              "#fb9f3a"
             ],
             [
              0.8888888888888888,
              "#fdca26"
             ],
             [
              1,
              "#f0f921"
             ]
            ],
            "type": "heatmapgl"
           }
          ],
          "histogram": [
           {
            "marker": {
             "pattern": {
              "fillmode": "overlay",
              "size": 10,
              "solidity": 0.2
             }
            },
            "type": "histogram"
           }
          ],
          "histogram2d": [
           {
            "colorbar": {
             "outlinewidth": 0,
             "ticks": ""
            },
            "colorscale": [
             [
              0,
              "#0d0887"
             ],
             [
              0.1111111111111111,
              "#46039f"
             ],
             [
              0.2222222222222222,
              "#7201a8"
             ],
             [
              0.3333333333333333,
              "#9c179e"
             ],
             [
              0.4444444444444444,
              "#bd3786"
             ],
             [
              0.5555555555555556,
              "#d8576b"
             ],
             [
              0.6666666666666666,
              "#ed7953"
             ],
             [
              0.7777777777777778,
              "#fb9f3a"
             ],
             [
              0.8888888888888888,
              "#fdca26"
             ],
             [
              1,
              "#f0f921"
             ]
            ],
            "type": "histogram2d"
           }
          ],
          "histogram2dcontour": [
           {
            "colorbar": {
             "outlinewidth": 0,
             "ticks": ""
            },
            "colorscale": [
             [
              0,
              "#0d0887"
             ],
             [
              0.1111111111111111,
              "#46039f"
             ],
             [
              0.2222222222222222,
              "#7201a8"
             ],
             [
              0.3333333333333333,
              "#9c179e"
             ],
             [
              0.4444444444444444,
              "#bd3786"
             ],
             [
              0.5555555555555556,
              "#d8576b"
             ],
             [
              0.6666666666666666,
              "#ed7953"
             ],
             [
              0.7777777777777778,
              "#fb9f3a"
             ],
             [
              0.8888888888888888,
              "#fdca26"
             ],
             [
              1,
              "#f0f921"
             ]
            ],
            "type": "histogram2dcontour"
           }
          ],
          "mesh3d": [
           {
            "colorbar": {
             "outlinewidth": 0,
             "ticks": ""
            },
            "type": "mesh3d"
           }
          ],
          "parcoords": [
           {
            "line": {
             "colorbar": {
              "outlinewidth": 0,
              "ticks": ""
             }
            },
            "type": "parcoords"
           }
          ],
          "pie": [
           {
            "automargin": true,
            "type": "pie"
           }
          ],
          "scatter": [
           {
            "fillpattern": {
             "fillmode": "overlay",
             "size": 10,
             "solidity": 0.2
            },
            "type": "scatter"
           }
          ],
          "scatter3d": [
           {
            "line": {
             "colorbar": {
              "outlinewidth": 0,
              "ticks": ""
             }
            },
            "marker": {
             "colorbar": {
              "outlinewidth": 0,
              "ticks": ""
             }
            },
            "type": "scatter3d"
           }
          ],
          "scattercarpet": [
           {
            "marker": {
             "colorbar": {
              "outlinewidth": 0,
              "ticks": ""
             }
            },
            "type": "scattercarpet"
           }
          ],
          "scattergeo": [
           {
            "marker": {
             "colorbar": {
              "outlinewidth": 0,
              "ticks": ""
             }
            },
            "type": "scattergeo"
           }
          ],
          "scattergl": [
           {
            "marker": {
             "colorbar": {
              "outlinewidth": 0,
              "ticks": ""
             }
            },
            "type": "scattergl"
           }
          ],
          "scattermapbox": [
           {
            "marker": {
             "colorbar": {
              "outlinewidth": 0,
              "ticks": ""
             }
            },
            "type": "scattermapbox"
           }
          ],
          "scatterpolar": [
           {
            "marker": {
             "colorbar": {
              "outlinewidth": 0,
              "ticks": ""
             }
            },
            "type": "scatterpolar"
           }
          ],
          "scatterpolargl": [
           {
            "marker": {
             "colorbar": {
              "outlinewidth": 0,
              "ticks": ""
             }
            },
            "type": "scatterpolargl"
           }
          ],
          "scatterternary": [
           {
            "marker": {
             "colorbar": {
              "outlinewidth": 0,
              "ticks": ""
             }
            },
            "type": "scatterternary"
           }
          ],
          "surface": [
           {
            "colorbar": {
             "outlinewidth": 0,
             "ticks": ""
            },
            "colorscale": [
             [
              0,
              "#0d0887"
             ],
             [
              0.1111111111111111,
              "#46039f"
             ],
             [
              0.2222222222222222,
              "#7201a8"
             ],
             [
              0.3333333333333333,
              "#9c179e"
             ],
             [
              0.4444444444444444,
              "#bd3786"
             ],
             [
              0.5555555555555556,
              "#d8576b"
             ],
             [
              0.6666666666666666,
              "#ed7953"
             ],
             [
              0.7777777777777778,
              "#fb9f3a"
             ],
             [
              0.8888888888888888,
              "#fdca26"
             ],
             [
              1,
              "#f0f921"
             ]
            ],
            "type": "surface"
           }
          ],
          "table": [
           {
            "cells": {
             "fill": {
              "color": "#EBF0F8"
             },
             "line": {
              "color": "white"
             }
            },
            "header": {
             "fill": {
              "color": "#C8D4E3"
             },
             "line": {
              "color": "white"
             }
            },
            "type": "table"
           }
          ]
         },
         "layout": {
          "annotationdefaults": {
           "arrowcolor": "#2a3f5f",
           "arrowhead": 0,
           "arrowwidth": 1
          },
          "autotypenumbers": "strict",
          "coloraxis": {
           "colorbar": {
            "outlinewidth": 0,
            "ticks": ""
           }
          },
          "colorscale": {
           "diverging": [
            [
             0,
             "#8e0152"
            ],
            [
             0.1,
             "#c51b7d"
            ],
            [
             0.2,
             "#de77ae"
            ],
            [
             0.3,
             "#f1b6da"
            ],
            [
             0.4,
             "#fde0ef"
            ],
            [
             0.5,
             "#f7f7f7"
            ],
            [
             0.6,
             "#e6f5d0"
            ],
            [
             0.7,
             "#b8e186"
            ],
            [
             0.8,
             "#7fbc41"
            ],
            [
             0.9,
             "#4d9221"
            ],
            [
             1,
             "#276419"
            ]
           ],
           "sequential": [
            [
             0,
             "#0d0887"
            ],
            [
             0.1111111111111111,
             "#46039f"
            ],
            [
             0.2222222222222222,
             "#7201a8"
            ],
            [
             0.3333333333333333,
             "#9c179e"
            ],
            [
             0.4444444444444444,
             "#bd3786"
            ],
            [
             0.5555555555555556,
             "#d8576b"
            ],
            [
             0.6666666666666666,
             "#ed7953"
            ],
            [
             0.7777777777777778,
             "#fb9f3a"
            ],
            [
             0.8888888888888888,
             "#fdca26"
            ],
            [
             1,
             "#f0f921"
            ]
           ],
           "sequentialminus": [
            [
             0,
             "#0d0887"
            ],
            [
             0.1111111111111111,
             "#46039f"
            ],
            [
             0.2222222222222222,
             "#7201a8"
            ],
            [
             0.3333333333333333,
             "#9c179e"
            ],
            [
             0.4444444444444444,
             "#bd3786"
            ],
            [
             0.5555555555555556,
             "#d8576b"
            ],
            [
             0.6666666666666666,
             "#ed7953"
            ],
            [
             0.7777777777777778,
             "#fb9f3a"
            ],
            [
             0.8888888888888888,
             "#fdca26"
            ],
            [
             1,
             "#f0f921"
            ]
           ]
          },
          "colorway": [
           "#636efa",
           "#EF553B",
           "#00cc96",
           "#ab63fa",
           "#FFA15A",
           "#19d3f3",
           "#FF6692",
           "#B6E880",
           "#FF97FF",
           "#FECB52"
          ],
          "font": {
           "color": "#2a3f5f"
          },
          "geo": {
           "bgcolor": "white",
           "lakecolor": "white",
           "landcolor": "#E5ECF6",
           "showlakes": true,
           "showland": true,
           "subunitcolor": "white"
          },
          "hoverlabel": {
           "align": "left"
          },
          "hovermode": "closest",
          "mapbox": {
           "style": "light"
          },
          "paper_bgcolor": "white",
          "plot_bgcolor": "#E5ECF6",
          "polar": {
           "angularaxis": {
            "gridcolor": "white",
            "linecolor": "white",
            "ticks": ""
           },
           "bgcolor": "#E5ECF6",
           "radialaxis": {
            "gridcolor": "white",
            "linecolor": "white",
            "ticks": ""
           }
          },
          "scene": {
           "xaxis": {
            "backgroundcolor": "#E5ECF6",
            "gridcolor": "white",
            "gridwidth": 2,
            "linecolor": "white",
            "showbackground": true,
            "ticks": "",
            "zerolinecolor": "white"
           },
           "yaxis": {
            "backgroundcolor": "#E5ECF6",
            "gridcolor": "white",
            "gridwidth": 2,
            "linecolor": "white",
            "showbackground": true,
            "ticks": "",
            "zerolinecolor": "white"
           },
           "zaxis": {
            "backgroundcolor": "#E5ECF6",
            "gridcolor": "white",
            "gridwidth": 2,
            "linecolor": "white",
            "showbackground": true,
            "ticks": "",
            "zerolinecolor": "white"
           }
          },
          "shapedefaults": {
           "line": {
            "color": "#2a3f5f"
           }
          },
          "ternary": {
           "aaxis": {
            "gridcolor": "white",
            "linecolor": "white",
            "ticks": ""
           },
           "baxis": {
            "gridcolor": "white",
            "linecolor": "white",
            "ticks": ""
           },
           "bgcolor": "#E5ECF6",
           "caxis": {
            "gridcolor": "white",
            "linecolor": "white",
            "ticks": ""
           }
          },
          "title": {
           "x": 0.05
          },
          "xaxis": {
           "automargin": true,
           "gridcolor": "white",
           "linecolor": "white",
           "ticks": "",
           "title": {
            "standoff": 15
           },
           "zerolinecolor": "white",
           "zerolinewidth": 2
          },
          "yaxis": {
           "automargin": true,
           "gridcolor": "white",
           "linecolor": "white",
           "ticks": "",
           "title": {
            "standoff": 15
           },
           "zerolinecolor": "white",
           "zerolinewidth": 2
          }
         }
        }
       }
      },
      "text/html": [
       "<div>                            <div id=\"470c9f41-6cb6-4e1e-94ae-d55bfdc8385d\" class=\"plotly-graph-div\" style=\"height:525px; width:100%;\"></div>            <script type=\"text/javascript\">                require([\"plotly\"], function(Plotly) {                    window.PLOTLYENV=window.PLOTLYENV || {};                                    if (document.getElementById(\"470c9f41-6cb6-4e1e-94ae-d55bfdc8385d\")) {                    Plotly.newPlot(                        \"470c9f41-6cb6-4e1e-94ae-d55bfdc8385d\",                        [{\"x\":[0.0,0.05,0.1,0.15000000000000002,0.2,0.25,0.30000000000000004,0.35000000000000003,0.4,0.45,0.5,0.55,0.6000000000000001,0.65,0.7000000000000001,0.75,0.8,0.8500000000000001,0.9,0.9500000000000001,1.0],\"y\":[0.0,0.05,0.1,0.15000000000000002,0.2,0.25,0.30000000000000004,0.35000000000000003,0.4,0.45,0.5,0.55,0.6000000000000001,0.65,0.7000000000000001,0.75,0.8,0.8500000000000001,0.9,0.9500000000000001,1.0],\"z\":[[[[2.8581929206848145,2.634044885635376,1.8594181537628174,0.0,0.0,0.0,0.0,0.0,0.0,0.0,0.0,0.0,0.0,0.0,0.0,0.0,0.0,0.0,0.0,0.0,0.0],[0.418710321187973,0.13102826476097107,0.3576744496822357,0.0,0.0,0.0,0.0,0.0,0.0,0.0,0.0,0.0,0.0,0.0,0.0,0.0,0.0,0.0,0.0,0.0,0.0],[0.0,0.0,0.0,0.0,0.0,0.0,0.0,0.0,0.0,0.0,0.0,0.0,0.0,0.0,0.0,0.0,0.0,0.0,0.0,0.0,0.0],[3.5290040969848633,1.8066481351852417,2.4965057373046875,0.0,0.0,0.0,0.0,0.0,0.0,0.0,0.0,0.0,0.0,0.0,0.0,0.0,0.0,0.0,0.0,0.0,0.0],[0.40546509623527527,0.12221763283014297,0.3506568670272827,0.0,0.0,0.0,0.0,0.0,0.0,0.0,0.0,0.0,0.0,0.0,0.0,0.0,0.0,0.0,0.0,0.0,0.0],[0.0,0.0,0.0,0.0,0.0,0.0,0.0,0.0,0.0,0.0,0.0,0.0,0.0,0.0,0.0,0.0,0.0,0.0,0.0,0.0,0.0],[2.336986541748047,2.314513683319092,1.3635374307632446,0.0,0.0,0.0,0.0,0.0,0.0,0.0,0.0,0.0,0.0,0.0,0.0,0.0,0.0,0.0,0.0,0.0,0.0],[0.3852623999118805,0.13102826476097107,0.3364722430706024,0.0,0.0,0.0,0.0,0.0,0.0,0.0,0.0,0.0,0.0,0.0,0.0,0.0,0.0,0.0,0.0,0.0,0.0],[0.0,0.0,0.0,0.0,0.0,0.0,0.0,0.0,0.0,0.0,0.0,0.0,0.0,0.0,0.0,0.0,0.0,0.0,0.0,0.0,0.0],[1.3402503728866577,1.5727739334106445,0.4946962296962738,0.0,0.0,0.0,0.0,0.0,0.0,0.0,0.0,0.0,0.0,0.0,0.0,0.0,0.0,0.0,0.0,0.0,0.0],[0.0,0.0,0.0,0.0,0.0,0.0,0.0,0.0,0.0,0.0,0.0,0.0,0.0,0.0,0.0,0.0,0.0,0.0,0.0,0.0,0.0],[0.0,0.0,0.0,0.0,0.0,0.0,0.0,0.0,0.0,0.0,0.0,0.0,0.0,0.0,0.0,0.0,0.0,0.0,0.0,0.0,0.0],[0.7654678225517273,0.9858167767524719,0.13102826476097107,0.0,0.0,0.0,0.0,0.0,0.0,0.0,0.0,0.0,0.0,0.0,0.0,0.0,0.0,0.0,0.0,0.0,0.0],[0.0,0.0,0.0,0.0,0.0,0.0,0.0,0.0,0.0,0.0,0.0,0.0,0.0,0.0,0.0,0.0,0.0,0.0,0.0,0.0,0.0],[0.0,0.0,0.0,0.0,0.0,0.0,0.0,0.0,0.0,0.0,0.0,0.0,0.0,0.0,0.0,0.0,0.0,0.0,0.0,0.0,0.0],[0.3852623999118805,0.4946962296962738,0.09531018137931824,0.0,0.0,0.0,0.0,0.0,0.0,0.0,0.0,0.0,0.0,0.0,0.0,0.0,0.0,0.0,0.0,0.0,0.0],[0.0,0.0,0.0,0.0,0.0,0.0,0.0,0.0,0.0,0.0,0.0,0.0,0.0,0.0,0.0,0.0,0.0,0.0,0.0,0.0,0.0],[0.0,0.0,0.0,0.0,0.0,0.0,0.0,0.0,0.0,0.0,0.0,0.0,0.0,0.0,0.0,0.0,0.0,0.0,0.0,0.0,0.0],[0.0,0.0,0.0,0.0,0.0,0.0,0.0,0.0,0.0,0.0,0.0,0.0,0.0,0.0,0.0,0.0,0.0,0.0,0.0,0.0,0.0],[0.0,0.0,0.0,0.0,0.0,0.0,0.0,0.0,0.0,0.0,0.0,0.0,0.0,0.0,0.0,0.0,0.0,0.0,0.0,0.0,0.0],[0.0,0.0,0.0,0.0,0.0,0.0,0.0,0.0,0.0,0.0,0.0,0.0,0.0,0.0,0.0,0.0,0.0,0.0,0.0,0.0,0.0]]]],\"type\":\"surface\",\"scene\":\"scene\"},{\"x\":[0.0,0.05,0.1,0.15000000000000002,0.2,0.25,0.30000000000000004,0.35000000000000003,0.4,0.45,0.5,0.55,0.6000000000000001,0.65,0.7000000000000001,0.75,0.8,0.8500000000000001,0.9,0.9500000000000001,1.0],\"y\":[0.0,0.05,0.1,0.15000000000000002,0.2,0.25,0.30000000000000004,0.35000000000000003,0.4,0.45,0.5,0.55,0.6000000000000001,0.65,0.7000000000000001,0.75,0.8,0.8500000000000001,0.9,0.9500000000000001,1.0],\"z\":[[[0.062247153371572495,0.09638500213623047,0.08637259900569916,0.07750410586595535,0.07873770594596863,0.07843693345785141,0.07875636965036392,0.07816331088542938,0.07846422493457794,0.07823681831359863,0.07828044891357422,0.07841826975345612,0.07863625884056091,0.07841578125953674,0.0782575011253357,0.07869301736354828,0.07884306460618973,0.07861381769180298,0.08055521547794342,0.049990877509117126,0.06058204919099808],[0.06918910890817642,0.1049632728099823,0.084438756108284,0.0808212086558342,0.08354346454143524,0.08014293015003204,0.08245892822742462,0.08056358993053436,0.08203454315662384,0.08064153790473938,0.08087527751922607,0.08040306717157364,0.08130753040313721,0.08022908121347427,0.080376036465168,0.08093167096376419,0.0768209844827652,0.07693566381931305,0.08084574341773987,0.045464202761650085,0.058380790054798126],[0.05640829727053642,0.08060918748378754,0.07052383571863174,0.06682605296373367,0.06796396523714066,0.06154295429587364,0.06286957859992981,0.062432948499917984,0.06467905640602112,0.061437223106622696,0.06333253532648087,0.06250207871198654,0.06411479413509369,0.06292560696601868,0.06337213516235352,0.06512326747179031,0.06454449146986008,0.06332900375127792,0.07252993434667587,0.052004728466272354,0.060538679361343384],[0.04618438333272934,0.07375302165746689,0.05709775537252426,0.038841914385557175,0.04533793777227402,0.04198291152715683,0.04527401551604271,0.044567231088876724,0.046134594827890396,0.047295648604631424,0.04392702504992485,0.042976126074790955,0.04607117921113968,0.04557150974869728,0.04531281441450119,0.04605654999613762,0.040581658482551575,0.03637825697660446,0.05236776918172836,0.03112693876028061,0.049571603536605835],[0.04548507183790207,0.07962240278720856,0.06822861731052399,0.056300126016139984,0.0656801089644432,0.06093016266822815,0.06285840272903442,0.06387706845998764,0.06421878933906555,0.059490375220775604,0.06629195809364319,0.06543031334877014,0.06393738836050034,0.060310352593660355,0.06372498720884323,0.06200920417904854,0.0540706142783165,0.04817955195903778,0.059862926602363586,0.03151913732290268,0.04441650211811066],[0.04659297317266464,0.07951515167951584,0.0667896568775177,0.05160639435052872,0.05853397026658058,0.05468859523534775,0.05570455268025398,0.06008842960000038,0.05040588974952698,0.051717039197683334,0.057957883924245834,0.05091889947652817,0.059286296367645264,0.05123100429773331,0.05647248774766922,0.058949753642082214,0.0503372885286808,0.03809052333235741,0.05508342385292053,0.0319107249379158,0.046503037214279175],[0.046739138662815094,0.08023461699485779,0.06858837604522705,0.053547535091638565,0.05446931719779968,0.048638008534908295,0.054958123713731766,0.055196020752191544,0.05449007451534271,0.05008435249328613,0.049487873911857605,0.0545097291469574,0.05803142860531807,0.05442347377538681,0.05607489496469498,0.05574604123830795,0.04977385699748993,0.03430696576833725,0.053564347326755524,0.03381180763244629,0.0462925061583519],[0.047046128660440445,0.08051471412181854,0.0699634850025177,0.05121315270662308,0.056581564247608185,0.04694299399852753,0.04609677195549011,0.048843301832675934,0.05327843502163887,0.04294595867395401,0.055125556886196136,0.05393809825181961,0.05098925530910492,0.0500447079539299,0.05108992010354996,0.05381583422422409,0.04849165678024292,0.03743046522140503,0.054847121238708496,0.032127100974321365,0.045980848371982574],[0.04711362347006798,0.07961583137512207,0.07134319841861725,0.053035616874694824,0.05320969969034195,0.04703288897871971,0.054793357849121094,0.047025345265865326,0.05850476026535034,0.0581420361995697,0.05642208456993103,0.05467921867966652,0.05457969382405281,0.045020367950201035,0.048052333295345306,0.05442492291331291,0.04304493963718414,0.035193830728530884,0.05327163636684418,0.03209562227129936,0.04578675329685211],[0.04749564081430435,0.07959413528442383,0.0704263225197792,0.053693294525146484,0.052424415946006775,0.04337318614125252,0.047333262860774994,0.04582616686820984,0.05055268108844757,0.05199357494711876,0.04796450957655907,0.046539220958948135,0.0599341094493866,0.052869196981191635,0.05216402933001518,0.05422668531537056,0.043622978031635284,0.03619067743420601,0.05464519187808037,0.03348010033369064,0.045492641627788544],[0.04702581465244293,0.08060342073440552,0.07073761522769928,0.049263786524534225,0.05261247232556343,0.051247112452983856,0.06261797994375229,0.05060847848653793,0.053750451654195786,0.04713328555226326,0.046676136553287506,0.05800394341349602,0.055891819298267365,0.0470912903547287,0.0447956807911396,0.05531879886984825,0.04612364619970322,0.03672799840569496,0.05186154693365097,0.03197597712278366,0.04554994776844978],[0.04695659875869751,0.08161936700344086,0.07101831585168839,0.047645267099142075,0.0526663213968277,0.05293098837137222,0.059063367545604706,0.04743519797921181,0.04140834882855415,0.05598681420087814,0.05487200245261192,0.047510914504528046,0.04975607246160507,0.052011534571647644,0.045835450291633606,0.050174206495285034,0.04674961045384407,0.037502169609069824,0.05468287318944931,0.033464111387729645,0.046029627323150635],[0.04701869934797287,0.08047854900360107,0.07091011852025986,0.05484798550605774,0.06058618426322937,0.04776429012417793,0.04392604902386665,0.049049682915210724,0.04345754534006119,0.05262724682688713,0.04734604060649872,0.05733339115977287,0.0484713539481163,0.04218549653887749,0.049808572977781296,0.05245096981525421,0.043423447757959366,0.03686661273241043,0.05344998836517334,0.03233041241765022,0.045987702906131744],[0.04740758240222931,0.07974473387002945,0.0685121938586235,0.053179673850536346,0.05268228054046631,0.05014315992593765,0.05205202475190163,0.04590104892849922,0.05303545296192169,0.04582454264163971,0.05791527405381203,0.05960720777511597,0.05195309594273567,0.04920694977045059,0.051275890320539474,0.05137178674340248,0.04068316891789436,0.03346920758485794,0.05271867290139198,0.03201316297054291,0.04598298668861389],[0.04677698761224747,0.08118242025375366,0.07004634290933609,0.05066011846065521,0.05126270651817322,0.046159714460372925,0.054577745497226715,0.04711124673485756,0.052123915404081345,0.05096329003572464,0.05624010041356087,0.05133519321680069,0.05567712336778641,0.047652311623096466,0.050933562219142914,0.05446184054017067,0.050484709441661835,0.0359061025083065,0.05264042317867279,0.033899009227752686,0.04640465974807739],[0.04746154695749283,0.08062990009784698,0.0709596499800682,0.05051138997077942,0.04972879961133003,0.04609336331486702,0.04792192205786705,0.045833852142095566,0.0469195693731308,0.05013959854841232,0.04555691406130791,0.05373033881187439,0.047856733202934265,0.052915316075086594,0.04866769537329674,0.04685785621404648,0.043268680572509766,0.03352983295917511,0.05250240117311478,0.03081534430384636,0.0463608019053936],[0.04736288636922836,0.08111952990293503,0.0712287500500679,0.05697856843471527,0.05631270632147789,0.05234120786190033,0.05028120428323746,0.05250971391797066,0.05031935125589371,0.058517150580883026,0.05237231403589249,0.053180500864982605,0.052832357585430145,0.05202087014913559,0.04975312575697899,0.054884959012269974,0.045867521315813065,0.035340309143066406,0.05618053674697876,0.03042766824364662,0.04536762088537216],[0.043694525957107544,0.07813004404306412,0.07240473479032516,0.053866587579250336,0.05419581010937691,0.049195416271686554,0.05587510019540787,0.051911789923906326,0.0503966361284256,0.05342593044042587,0.054316502064466476,0.05013527721166611,0.04995120316743851,0.050326667726039886,0.051486603915691376,0.053667597472667694,0.05017966032028198,0.03903719037771225,0.05396529287099838,0.03375227004289627,0.047515496611595154],[0.04915309697389603,0.049671366810798645,0.04601576179265976,0.032410863786935806,0.03594633936882019,0.03558190539479256,0.03408171236515045,0.03528188169002533,0.03501569852232933,0.03343487158417702,0.03659952059388161,0.03213581442832947,0.03655334562063217,0.03444288671016693,0.034071020781993866,0.03558436036109924,0.03016822785139084,0.021248865872621536,0.03696870803833008,0.04986470192670822,0.052446767687797546],[0.04239032790064812,0.03575902432203293,0.03356657549738884,0.01866402104496956,0.019561074674129486,0.01503218337893486,0.017291530966758728,0.01680421456694603,0.016241032630205154,0.016650743782520294,0.017996404320001602,0.01692906767129898,0.01601051166653633,0.01699799671769142,0.01587449386715889,0.016693145036697388,0.015385255217552185,0.011384215205907822,0.03129472956061363,0.044116854667663574,0.049440979957580566],[0.05250522866845131,0.05254828557372093,0.03694702684879303,0.01648890972137451,0.015490561723709106,0.01660367101430893,0.016814183443784714,0.0161299929022789,0.016696490347385406,0.016398455947637558,0.016414131969213486,0.016839273273944855,0.016539663076400757,0.016124077141284943,0.016441550105810165,0.016638264060020447,0.015321176499128342,0.01729021593928337,0.030091464519500732,0.035400230437517166,0.05267694592475891]]],\"type\":\"surface\",\"scene\":\"scene2\"}],                        {\"template\":{\"data\":{\"histogram2dcontour\":[{\"type\":\"histogram2dcontour\",\"colorbar\":{\"outlinewidth\":0,\"ticks\":\"\"},\"colorscale\":[[0.0,\"#0d0887\"],[0.1111111111111111,\"#46039f\"],[0.2222222222222222,\"#7201a8\"],[0.3333333333333333,\"#9c179e\"],[0.4444444444444444,\"#bd3786\"],[0.5555555555555556,\"#d8576b\"],[0.6666666666666666,\"#ed7953\"],[0.7777777777777778,\"#fb9f3a\"],[0.8888888888888888,\"#fdca26\"],[1.0,\"#f0f921\"]]}],\"choropleth\":[{\"type\":\"choropleth\",\"colorbar\":{\"outlinewidth\":0,\"ticks\":\"\"}}],\"histogram2d\":[{\"type\":\"histogram2d\",\"colorbar\":{\"outlinewidth\":0,\"ticks\":\"\"},\"colorscale\":[[0.0,\"#0d0887\"],[0.1111111111111111,\"#46039f\"],[0.2222222222222222,\"#7201a8\"],[0.3333333333333333,\"#9c179e\"],[0.4444444444444444,\"#bd3786\"],[0.5555555555555556,\"#d8576b\"],[0.6666666666666666,\"#ed7953\"],[0.7777777777777778,\"#fb9f3a\"],[0.8888888888888888,\"#fdca26\"],[1.0,\"#f0f921\"]]}],\"heatmap\":[{\"type\":\"heatmap\",\"colorbar\":{\"outlinewidth\":0,\"ticks\":\"\"},\"colorscale\":[[0.0,\"#0d0887\"],[0.1111111111111111,\"#46039f\"],[0.2222222222222222,\"#7201a8\"],[0.3333333333333333,\"#9c179e\"],[0.4444444444444444,\"#bd3786\"],[0.5555555555555556,\"#d8576b\"],[0.6666666666666666,\"#ed7953\"],[0.7777777777777778,\"#fb9f3a\"],[0.8888888888888888,\"#fdca26\"],[1.0,\"#f0f921\"]]}],\"heatmapgl\":[{\"type\":\"heatmapgl\",\"colorbar\":{\"outlinewidth\":0,\"ticks\":\"\"},\"colorscale\":[[0.0,\"#0d0887\"],[0.1111111111111111,\"#46039f\"],[0.2222222222222222,\"#7201a8\"],[0.3333333333333333,\"#9c179e\"],[0.4444444444444444,\"#bd3786\"],[0.5555555555555556,\"#d8576b\"],[0.6666666666666666,\"#ed7953\"],[0.7777777777777778,\"#fb9f3a\"],[0.8888888888888888,\"#fdca26\"],[1.0,\"#f0f921\"]]}],\"contourcarpet\":[{\"type\":\"contourcarpet\",\"colorbar\":{\"outlinewidth\":0,\"ticks\":\"\"}}],\"contour\":[{\"type\":\"contour\",\"colorbar\":{\"outlinewidth\":0,\"ticks\":\"\"},\"colorscale\":[[0.0,\"#0d0887\"],[0.1111111111111111,\"#46039f\"],[0.2222222222222222,\"#7201a8\"],[0.3333333333333333,\"#9c179e\"],[0.4444444444444444,\"#bd3786\"],[0.5555555555555556,\"#d8576b\"],[0.6666666666666666,\"#ed7953\"],[0.7777777777777778,\"#fb9f3a\"],[0.8888888888888888,\"#fdca26\"],[1.0,\"#f0f921\"]]}],\"surface\":[{\"type\":\"surface\",\"colorbar\":{\"outlinewidth\":0,\"ticks\":\"\"},\"colorscale\":[[0.0,\"#0d0887\"],[0.1111111111111111,\"#46039f\"],[0.2222222222222222,\"#7201a8\"],[0.3333333333333333,\"#9c179e\"],[0.4444444444444444,\"#bd3786\"],[0.5555555555555556,\"#d8576b\"],[0.6666666666666666,\"#ed7953\"],[0.7777777777777778,\"#fb9f3a\"],[0.8888888888888888,\"#fdca26\"],[1.0,\"#f0f921\"]]}],\"mesh3d\":[{\"type\":\"mesh3d\",\"colorbar\":{\"outlinewidth\":0,\"ticks\":\"\"}}],\"scatter\":[{\"fillpattern\":{\"fillmode\":\"overlay\",\"size\":10,\"solidity\":0.2},\"type\":\"scatter\"}],\"parcoords\":[{\"type\":\"parcoords\",\"line\":{\"colorbar\":{\"outlinewidth\":0,\"ticks\":\"\"}}}],\"scatterpolargl\":[{\"type\":\"scatterpolargl\",\"marker\":{\"colorbar\":{\"outlinewidth\":0,\"ticks\":\"\"}}}],\"bar\":[{\"error_x\":{\"color\":\"#2a3f5f\"},\"error_y\":{\"color\":\"#2a3f5f\"},\"marker\":{\"line\":{\"color\":\"#E5ECF6\",\"width\":0.5},\"pattern\":{\"fillmode\":\"overlay\",\"size\":10,\"solidity\":0.2}},\"type\":\"bar\"}],\"scattergeo\":[{\"type\":\"scattergeo\",\"marker\":{\"colorbar\":{\"outlinewidth\":0,\"ticks\":\"\"}}}],\"scatterpolar\":[{\"type\":\"scatterpolar\",\"marker\":{\"colorbar\":{\"outlinewidth\":0,\"ticks\":\"\"}}}],\"histogram\":[{\"marker\":{\"pattern\":{\"fillmode\":\"overlay\",\"size\":10,\"solidity\":0.2}},\"type\":\"histogram\"}],\"scattergl\":[{\"type\":\"scattergl\",\"marker\":{\"colorbar\":{\"outlinewidth\":0,\"ticks\":\"\"}}}],\"scatter3d\":[{\"type\":\"scatter3d\",\"line\":{\"colorbar\":{\"outlinewidth\":0,\"ticks\":\"\"}},\"marker\":{\"colorbar\":{\"outlinewidth\":0,\"ticks\":\"\"}}}],\"scattermapbox\":[{\"type\":\"scattermapbox\",\"marker\":{\"colorbar\":{\"outlinewidth\":0,\"ticks\":\"\"}}}],\"scatterternary\":[{\"type\":\"scatterternary\",\"marker\":{\"colorbar\":{\"outlinewidth\":0,\"ticks\":\"\"}}}],\"scattercarpet\":[{\"type\":\"scattercarpet\",\"marker\":{\"colorbar\":{\"outlinewidth\":0,\"ticks\":\"\"}}}],\"carpet\":[{\"aaxis\":{\"endlinecolor\":\"#2a3f5f\",\"gridcolor\":\"white\",\"linecolor\":\"white\",\"minorgridcolor\":\"white\",\"startlinecolor\":\"#2a3f5f\"},\"baxis\":{\"endlinecolor\":\"#2a3f5f\",\"gridcolor\":\"white\",\"linecolor\":\"white\",\"minorgridcolor\":\"white\",\"startlinecolor\":\"#2a3f5f\"},\"type\":\"carpet\"}],\"table\":[{\"cells\":{\"fill\":{\"color\":\"#EBF0F8\"},\"line\":{\"color\":\"white\"}},\"header\":{\"fill\":{\"color\":\"#C8D4E3\"},\"line\":{\"color\":\"white\"}},\"type\":\"table\"}],\"barpolar\":[{\"marker\":{\"line\":{\"color\":\"#E5ECF6\",\"width\":0.5},\"pattern\":{\"fillmode\":\"overlay\",\"size\":10,\"solidity\":0.2}},\"type\":\"barpolar\"}],\"pie\":[{\"automargin\":true,\"type\":\"pie\"}]},\"layout\":{\"autotypenumbers\":\"strict\",\"colorway\":[\"#636efa\",\"#EF553B\",\"#00cc96\",\"#ab63fa\",\"#FFA15A\",\"#19d3f3\",\"#FF6692\",\"#B6E880\",\"#FF97FF\",\"#FECB52\"],\"font\":{\"color\":\"#2a3f5f\"},\"hovermode\":\"closest\",\"hoverlabel\":{\"align\":\"left\"},\"paper_bgcolor\":\"white\",\"plot_bgcolor\":\"#E5ECF6\",\"polar\":{\"bgcolor\":\"#E5ECF6\",\"angularaxis\":{\"gridcolor\":\"white\",\"linecolor\":\"white\",\"ticks\":\"\"},\"radialaxis\":{\"gridcolor\":\"white\",\"linecolor\":\"white\",\"ticks\":\"\"}},\"ternary\":{\"bgcolor\":\"#E5ECF6\",\"aaxis\":{\"gridcolor\":\"white\",\"linecolor\":\"white\",\"ticks\":\"\"},\"baxis\":{\"gridcolor\":\"white\",\"linecolor\":\"white\",\"ticks\":\"\"},\"caxis\":{\"gridcolor\":\"white\",\"linecolor\":\"white\",\"ticks\":\"\"}},\"coloraxis\":{\"colorbar\":{\"outlinewidth\":0,\"ticks\":\"\"}},\"colorscale\":{\"sequential\":[[0.0,\"#0d0887\"],[0.1111111111111111,\"#46039f\"],[0.2222222222222222,\"#7201a8\"],[0.3333333333333333,\"#9c179e\"],[0.4444444444444444,\"#bd3786\"],[0.5555555555555556,\"#d8576b\"],[0.6666666666666666,\"#ed7953\"],[0.7777777777777778,\"#fb9f3a\"],[0.8888888888888888,\"#fdca26\"],[1.0,\"#f0f921\"]],\"sequentialminus\":[[0.0,\"#0d0887\"],[0.1111111111111111,\"#46039f\"],[0.2222222222222222,\"#7201a8\"],[0.3333333333333333,\"#9c179e\"],[0.4444444444444444,\"#bd3786\"],[0.5555555555555556,\"#d8576b\"],[0.6666666666666666,\"#ed7953\"],[0.7777777777777778,\"#fb9f3a\"],[0.8888888888888888,\"#fdca26\"],[1.0,\"#f0f921\"]],\"diverging\":[[0,\"#8e0152\"],[0.1,\"#c51b7d\"],[0.2,\"#de77ae\"],[0.3,\"#f1b6da\"],[0.4,\"#fde0ef\"],[0.5,\"#f7f7f7\"],[0.6,\"#e6f5d0\"],[0.7,\"#b8e186\"],[0.8,\"#7fbc41\"],[0.9,\"#4d9221\"],[1,\"#276419\"]]},\"xaxis\":{\"gridcolor\":\"white\",\"linecolor\":\"white\",\"ticks\":\"\",\"title\":{\"standoff\":15},\"zerolinecolor\":\"white\",\"automargin\":true,\"zerolinewidth\":2},\"yaxis\":{\"gridcolor\":\"white\",\"linecolor\":\"white\",\"ticks\":\"\",\"title\":{\"standoff\":15},\"zerolinecolor\":\"white\",\"automargin\":true,\"zerolinewidth\":2},\"scene\":{\"xaxis\":{\"backgroundcolor\":\"#E5ECF6\",\"gridcolor\":\"white\",\"linecolor\":\"white\",\"showbackground\":true,\"ticks\":\"\",\"zerolinecolor\":\"white\",\"gridwidth\":2},\"yaxis\":{\"backgroundcolor\":\"#E5ECF6\",\"gridcolor\":\"white\",\"linecolor\":\"white\",\"showbackground\":true,\"ticks\":\"\",\"zerolinecolor\":\"white\",\"gridwidth\":2},\"zaxis\":{\"backgroundcolor\":\"#E5ECF6\",\"gridcolor\":\"white\",\"linecolor\":\"white\",\"showbackground\":true,\"ticks\":\"\",\"zerolinecolor\":\"white\",\"gridwidth\":2}},\"shapedefaults\":{\"line\":{\"color\":\"#2a3f5f\"}},\"annotationdefaults\":{\"arrowcolor\":\"#2a3f5f\",\"arrowhead\":0,\"arrowwidth\":1},\"geo\":{\"bgcolor\":\"white\",\"landcolor\":\"#E5ECF6\",\"subunitcolor\":\"white\",\"showland\":true,\"showlakes\":true,\"lakecolor\":\"white\"},\"title\":{\"x\":0.05},\"mapbox\":{\"style\":\"light\"}}},\"scene\":{\"domain\":{\"x\":[0.0,0.45],\"y\":[0.0,1.0]}},\"scene2\":{\"domain\":{\"x\":[0.55,1.0],\"y\":[0.0,1.0]}}},                        {\"responsive\": true}                    ).then(function(){\n",
       "                            \n",
       "var gd = document.getElementById('470c9f41-6cb6-4e1e-94ae-d55bfdc8385d');\n",
       "var x = new MutationObserver(function (mutations, observer) {{\n",
       "        var display = window.getComputedStyle(gd).display;\n",
       "        if (!display || display === 'none') {{\n",
       "            console.log([gd, 'removed!']);\n",
       "            Plotly.purge(gd);\n",
       "            observer.disconnect();\n",
       "        }}\n",
       "}});\n",
       "\n",
       "// Listen for the removal of the full notebook cells\n",
       "var notebookContainer = gd.closest('#notebook-container');\n",
       "if (notebookContainer) {{\n",
       "    x.observe(notebookContainer, {childList: true});\n",
       "}}\n",
       "\n",
       "// Listen for the clearing of the current output cell\n",
       "var outputEl = gd.closest('.output');\n",
       "if (outputEl) {{\n",
       "    x.observe(outputEl, {childList: true});\n",
       "}}\n",
       "\n",
       "                        })                };                });            </script>        </div>"
      ]
     },
     "metadata": {},
     "output_type": "display_data"
    }
   ],
   "source": [
    "import plotly.graph_objects as go\n",
    "import numpy as np\n",
    "\n",
    "def plot_sfield(scalar_field, z_level=0.0):\n",
    "    # plot iso surface of a given scalar field\n",
    "    # z_level: iso surface level\n",
    "    # sweep x, y and get z as value of scalar field at z level\n",
    "    x = np.linspace(0, 1, 21)\n",
    "    y = np.linspace(0, 1, 21)\n",
    "    z = scalar_field[:, : , 11]\n",
    "\n",
    "    iso =go.Surface(x=x, y=y, z=z)\n",
    "    return iso\n",
    "\n",
    "\n",
    "def show_in_out_plots(in_field, model):\n",
    "    fig = make_subplots(\n",
    "        rows=1, cols=2,\n",
    "        specs=[[{'type': 'surface'}, {'type': 'surface'}]])\n",
    "\n",
    "    model = model_list[0]\n",
    "    x = in_field.reshape(1, 1, 21, 21, 21).to(device)\n",
    "    x_out = model.forward(x)\n",
    "    x_out = x_out.to('cpu').detach().numpy().reshape(1, 21, 21, 21)\n",
    "\n",
    "    field_in =  plot_sfield(x.cpu().numpy())\n",
    "    field_out = plot_sfield(x_out)\n",
    "    #plot surface in subplots\n",
    "    # add traces\n",
    "    fig.add_trace(field_in, 1, 1, showcolorbar=False, showscale= False)\n",
    "    fig.add_trace(field_out, 1, 2, showcolorbar=False, showscale= False)\n",
    "    fig.show()\n",
    "    \n",
    "show_in_out_plots(dataset_single[0], model_list[0])\n",
    "#plot_sfield(dataset_single[0], model_list[0])\n"
   ]
  },
  {
   "cell_type": "code",
   "execution_count": 25,
   "metadata": {},
   "outputs": [
    {
     "data": {
      "text/plain": [
       "tensor([[[[0.8515, 0.7099, 0.5679,  ..., 0.0000, 0.0000, 0.0000],\n",
       "          [0.5467, 0.3621, 0.5411,  ..., 0.0000, 0.0000, 0.0000],\n",
       "          [0.6301, 0.6643, 0.5832,  ..., 0.0000, 0.0000, 0.0000],\n",
       "          ...,\n",
       "          [1.6063, 1.7710, 1.1360,  ..., 0.0000, 0.0000, 0.0000],\n",
       "          [0.5028, 0.3099, 0.4982,  ..., 0.0000, 0.0000, 0.0000],\n",
       "          [0.0000, 0.0000, 0.0000,  ..., 0.0000, 0.0000, 0.0000]],\n",
       "\n",
       "         [[2.1409, 0.9314, 1.9961,  ..., 0.0000, 0.0000, 0.0000],\n",
       "          [0.4982, 0.3044, 0.4941,  ..., 0.0000, 0.0000, 0.0000],\n",
       "          [0.0000, 0.0000, 0.0000,  ..., 0.0000, 0.0000, 0.0000],\n",
       "          ...,\n",
       "          [1.3809, 1.9610, 1.6127,  ..., 0.0000, 0.0000, 0.0000],\n",
       "          [0.2852, 0.1484, 0.4762,  ..., 0.0000, 0.0000, 0.0000],\n",
       "          [0.0000, 0.0000, 0.0000,  ..., 0.0000, 0.0000, 0.0000]],\n",
       "\n",
       "         [[1.9891, 1.5936, 1.0851,  ..., 0.0000, 0.0000, 0.0000],\n",
       "          [0.2852, 0.1222, 0.4824,  ..., 0.0000, 0.0000, 0.0000],\n",
       "          [0.0000, 0.0000, 0.0000,  ..., 0.0000, 0.0000, 0.0000],\n",
       "          ...,\n",
       "          [0.8242, 1.0296, 0.6206,  ..., 0.0000, 0.0000, 0.0000],\n",
       "          [0.3820, 0.2132, 0.5782,  ..., 0.0000, 0.0000, 0.0000],\n",
       "          [0.0000, 0.0000, 0.0000,  ..., 0.0000, 0.0000, 0.0000]],\n",
       "\n",
       "         ...,\n",
       "\n",
       "         [[0.8233, 0.3156, 0.7421,  ..., 0.0000, 0.0000, 0.0000],\n",
       "          [0.3577, 0.2311, 0.4187,  ..., 0.0000, 0.0000, 0.0000],\n",
       "          [0.4453, 0.3953, 0.4730,  ..., 0.0000, 0.0000, 0.0000],\n",
       "          ...,\n",
       "          [1.1569, 0.9123, 0.1310,  ..., 0.0000, 0.0000, 0.0000],\n",
       "          [0.3436, 0.2151, 0.4187,  ..., 0.0000, 0.0000, 0.0000],\n",
       "          [0.0000, 0.0000, 0.0000,  ..., 0.0000, 0.0000, 0.0000]],\n",
       "\n",
       "         [[1.3838, 0.3221, 0.2469,  ..., 0.0000, 0.0000, 0.0000],\n",
       "          [0.3365, 0.2070, 0.4187,  ..., 0.0000, 0.0000, 0.0000],\n",
       "          [0.0000, 0.0000, 0.0000,  ..., 0.0000, 0.0000, 0.0000],\n",
       "          ...,\n",
       "          [0.6366, 1.2975, 1.2698,  ..., 0.0000, 0.0000, 0.0000],\n",
       "          [0.3293, 0.1570, 0.4824,  ..., 0.0000, 0.0000, 0.0000],\n",
       "          [0.0000, 0.0000, 0.0000,  ..., 0.0000, 0.0000, 0.0000]],\n",
       "\n",
       "         [[1.4702, 0.6471, 1.9601,  ..., 0.0000, 0.0000, 0.0000],\n",
       "          [0.3293, 0.1222, 0.4824,  ..., 0.0000, 0.0000, 0.0000],\n",
       "          [0.0000, 0.0000, 0.0000,  ..., 0.0000, 0.0000, 0.0000],\n",
       "          ...,\n",
       "          [1.1404, 0.4754, 0.7023,  ..., 0.0000, 0.0000, 0.0000],\n",
       "          [0.0000, 0.0000, 0.0000,  ..., 0.0000, 0.0000, 0.0000],\n",
       "          [0.0000, 0.0000, 0.0000,  ..., 0.0000, 0.0000, 0.0000]]]],\n",
       "       device='cuda:0')"
      ]
     },
     "execution_count": 25,
     "metadata": {},
     "output_type": "execute_result"
    }
   ],
   "source": [
    "dataset_single[0]"
   ]
  },
  {
   "cell_type": "code",
   "execution_count": null,
   "metadata": {},
   "outputs": [],
   "source": []
  }
 ],
 "metadata": {
  "kernelspec": {
   "display_name": "bondnet_e3nn",
   "language": "python",
   "name": "python3"
  },
  "language_info": {
   "codemirror_mode": {
    "name": "ipython",
    "version": 3
   },
   "file_extension": ".py",
   "mimetype": "text/x-python",
   "name": "python",
   "nbconvert_exporter": "python",
   "pygments_lexer": "ipython3",
   "version": "3.7.0"
  },
  "orig_nbformat": 4,
  "vscode": {
   "interpreter": {
    "hash": "8b207b546ed9db85640a40bfde077152bd4bf149c5bd635f9999638fb346ceab"
   }
  }
 },
 "nbformat": 4,
 "nbformat_minor": 2
}
