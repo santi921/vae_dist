{
 "cells": [
  {
   "cell_type": "code",
   "execution_count": 10,
   "metadata": {},
   "outputs": [
    {
     "name": "stdout",
     "output_type": "stream",
     "text": [
      "The autoreload extension is already loaded. To reload it, use:\n",
      "  %reload_ext autoreload\n"
     ]
    }
   ],
   "source": [
    "%load_ext autoreload\n",
    "\n",
    "%autoreload 2\n",
    "\n",
    "#from vae_dist.core.e3VAE import E3VAE\n",
    "from vae_dist.core.training import train\n",
    "from vae_dist.dataset.dataset import FieldDataset\n",
    "import torch \n",
    "from e3nn.io import CartesianTensor, SphericalTensor\n",
    "from e3nn import o3"
   ]
  },
  {
   "cell_type": "code",
   "execution_count": 11,
   "metadata": {},
   "outputs": [
    {
     "name": "stdout",
     "output_type": "stream",
     "text": [
      "Largest value in dataset:  0.9999999993409996\n",
      "Smallest value in dataset:  0.0\n"
     ]
    }
   ],
   "source": [
    "device = torch.device('cuda' if torch.cuda.is_available() else 'cpu')\n",
    "root = \"../../data/cpet/\"\n",
    "# load model to gpu\n",
    "dataset_vanilla = FieldDataset(\n",
    "    root, \n",
    "    transform=None, \n",
    "    augmentation=None, \n",
    "    device=device\n",
    "    )\n",
    "\n"
   ]
  },
  {
   "cell_type": "code",
   "execution_count": null,
   "metadata": {},
   "outputs": [],
   "source": []
  },
  {
   "cell_type": "code",
   "execution_count": 13,
   "metadata": {},
   "outputs": [
    {
     "name": "stdout",
     "output_type": "stream",
     "text": [
      "21\n",
      "1x0o\n"
     ]
    },
    {
     "ename": "RuntimeError",
     "evalue": "mat1 and mat2 shapes cannot be multiplied (3x9261 and 27x1)",
     "output_type": "error",
     "traceback": [
      "\u001b[0;31m---------------------------------------------------------------------------\u001b[0m",
      "\u001b[0;31mRuntimeError\u001b[0m                              Traceback (most recent call last)",
      "\u001b[0;32m/tmp/ipykernel_3364222/3248217006.py\u001b[0m in \u001b[0;36m<module>\u001b[0;34m\u001b[0m\n\u001b[1;32m     10\u001b[0m \u001b[0mx\u001b[0m \u001b[0;34m=\u001b[0m \u001b[0mCartesianTensor\u001b[0m\u001b[0;34m(\u001b[0m\u001b[0;34m\"ijk=-jik=-ikj\"\u001b[0m\u001b[0;34m)\u001b[0m\u001b[0;34m\u001b[0m\u001b[0m\n\u001b[1;32m     11\u001b[0m \u001b[0mprint\u001b[0m\u001b[0;34m(\u001b[0m\u001b[0mx\u001b[0m\u001b[0;34m)\u001b[0m\u001b[0;34m\u001b[0m\u001b[0m\n\u001b[0;32m---> 12\u001b[0;31m \u001b[0mx\u001b[0m\u001b[0;34m.\u001b[0m\u001b[0mfrom_cartesian\u001b[0m\u001b[0;34m(\u001b[0m\u001b[0mtorch\u001b[0m\u001b[0;34m.\u001b[0m\u001b[0mones\u001b[0m\u001b[0;34m(\u001b[0m\u001b[0;36m1\u001b[0m\u001b[0;34m,\u001b[0m\u001b[0;36m3\u001b[0m\u001b[0;34m,\u001b[0m \u001b[0;36m21\u001b[0m\u001b[0;34m,\u001b[0m \u001b[0;36m21\u001b[0m\u001b[0;34m,\u001b[0m \u001b[0;36m21\u001b[0m\u001b[0;34m)\u001b[0m\u001b[0;34m)\u001b[0m\u001b[0;34m\u001b[0m\u001b[0m\n\u001b[0m",
      "\u001b[0;32m~/anaconda3/envs/bondnet/lib/python3.7/site-packages/e3nn/io/_cartesian_tensor.py\u001b[0m in \u001b[0;36mfrom_cartesian\u001b[0;34m(self, data, rtp)\u001b[0m\n\u001b[1;32m     69\u001b[0m \u001b[0;34m\u001b[0m\u001b[0m\n\u001b[1;32m     70\u001b[0m         \u001b[0mQ\u001b[0m \u001b[0;34m=\u001b[0m \u001b[0mrtp\u001b[0m\u001b[0;34m.\u001b[0m\u001b[0mchange_of_basis\u001b[0m\u001b[0;34m.\u001b[0m\u001b[0mflatten\u001b[0m\u001b[0;34m(\u001b[0m\u001b[0;34m-\u001b[0m\u001b[0mlen\u001b[0m\u001b[0;34m(\u001b[0m\u001b[0mself\u001b[0m\u001b[0;34m.\u001b[0m\u001b[0mindices\u001b[0m\u001b[0;34m)\u001b[0m\u001b[0;34m)\u001b[0m\u001b[0;34m\u001b[0m\u001b[0m\n\u001b[0;32m---> 71\u001b[0;31m         \u001b[0;32mreturn\u001b[0m \u001b[0mdata\u001b[0m\u001b[0;34m.\u001b[0m\u001b[0mflatten\u001b[0m\u001b[0;34m(\u001b[0m\u001b[0;34m-\u001b[0m\u001b[0mlen\u001b[0m\u001b[0;34m(\u001b[0m\u001b[0mself\u001b[0m\u001b[0;34m.\u001b[0m\u001b[0mindices\u001b[0m\u001b[0;34m)\u001b[0m\u001b[0;34m)\u001b[0m \u001b[0;34m@\u001b[0m \u001b[0mQ\u001b[0m\u001b[0;34m.\u001b[0m\u001b[0mT\u001b[0m\u001b[0;34m\u001b[0m\u001b[0m\n\u001b[0m\u001b[1;32m     72\u001b[0m \u001b[0;34m\u001b[0m\u001b[0m\n\u001b[1;32m     73\u001b[0m     \u001b[0;32mdef\u001b[0m \u001b[0mfrom_vectors\u001b[0m\u001b[0;34m(\u001b[0m\u001b[0mself\u001b[0m\u001b[0;34m,\u001b[0m \u001b[0;34m*\u001b[0m\u001b[0mxs\u001b[0m\u001b[0;34m,\u001b[0m \u001b[0mrtp\u001b[0m\u001b[0;34m=\u001b[0m\u001b[0;32mNone\u001b[0m\u001b[0;34m)\u001b[0m\u001b[0;34m:\u001b[0m\u001b[0;34m\u001b[0m\u001b[0m\n",
      "\u001b[0;31mRuntimeError\u001b[0m: mat1 and mat2 shapes cannot be multiplied (3x9261 and 27x1)"
     ]
    }
   ],
   "source": [
    "data = dataset_vanilla[0]\n",
    "print(data.shape[3])\n",
    "data_reshape = data.reshape(1,3,data.shape[1], data.shape[2], data.shape[3])\n",
    "#2x0e+1x1e+3x2e+1x3e+1x4e\n",
    "\n",
    "#x = CartesianTensor(\"3x0e\")\n",
    "#sphere = x.from_cartesian(data_reshape)\n",
    "\n",
    "\n",
    "x = CartesianTensor(\"ijk=-jik=-ikj\")\n",
    "print(x)\n",
    "x.from_cartesian(torch.ones(1,3, 21, 21, 21))"
   ]
  },
  {
   "cell_type": "code",
   "execution_count": 5,
   "metadata": {},
   "outputs": [
    {
     "data": {
      "text/plain": [
       "'from e3nn.nn.models.v2103.gate_points_networks import SimpleNetwork\\nnet = SimpleNetwork(\\n    irreps_in=\"3x0e + 2x1o\",\\n    irreps_out=\"1x1o\",\\n    max_radius=2.0,\\n    num_neighbors=3.0,\\n    num_nodes=5.0\\n)'"
      ]
     },
     "execution_count": 5,
     "metadata": {},
     "output_type": "execute_result"
    }
   ],
   "source": [
    "x = CartesianTensor(\"1e\")\n",
    "sphere = x.from_cartesian(torch.ones(3, 3, 3, 3))\n",
    "\n",
    "\"\"\"from e3nn.nn.models.v2103.gate_points_networks import SimpleNetwork\n",
    "net = SimpleNetwork(\n",
    "    irreps_in=\"3x0e + 2x1o\",\n",
    "    irreps_out=\"1x1o\",\n",
    "    max_radius=2.0,\n",
    "    num_neighbors=3.0,\n",
    "    num_nodes=5.0\n",
    ")\"\"\""
   ]
  },
  {
   "cell_type": "code",
   "execution_count": 6,
   "metadata": {},
   "outputs": [
    {
     "ename": "RuntimeError",
     "evalue": "shape '[21, 21, 21]' is invalid for input of size 27783",
     "output_type": "error",
     "traceback": [
      "\u001b[0;31m---------------------------------------------------------------------------\u001b[0m",
      "\u001b[0;31mRuntimeError\u001b[0m                              Traceback (most recent call last)",
      "\u001b[0;32m/tmp/ipykernel_3364222/1303755595.py\u001b[0m in \u001b[0;36m<module>\u001b[0;34m\u001b[0m\n\u001b[1;32m      2\u001b[0m \u001b[0;34m\u001b[0m\u001b[0m\n\u001b[1;32m      3\u001b[0m \u001b[0mtest\u001b[0m \u001b[0;34m=\u001b[0m \u001b[0mdataset_vanilla\u001b[0m\u001b[0;34m[\u001b[0m\u001b[0;36m0\u001b[0m\u001b[0;34m]\u001b[0m\u001b[0;34m\u001b[0m\u001b[0m\n\u001b[0;32m----> 4\u001b[0;31m \u001b[0mtest\u001b[0m \u001b[0;34m=\u001b[0m \u001b[0mtest\u001b[0m\u001b[0;34m.\u001b[0m\u001b[0mreshape\u001b[0m\u001b[0;34m(\u001b[0m\u001b[0;36m21\u001b[0m\u001b[0;34m,\u001b[0m \u001b[0;36m21\u001b[0m\u001b[0;34m,\u001b[0m \u001b[0;36m21\u001b[0m\u001b[0;34m)\u001b[0m\u001b[0;34m\u001b[0m\u001b[0m\n\u001b[0m\u001b[1;32m      5\u001b[0m \u001b[0;31m#test = torch.einsum('tixyz->txyzi', test)\u001b[0m\u001b[0;34m\u001b[0m\u001b[0;34m\u001b[0m\u001b[0m\n\u001b[1;32m      6\u001b[0m \u001b[0mprint\u001b[0m\u001b[0;34m(\u001b[0m\u001b[0mtest\u001b[0m\u001b[0;34m.\u001b[0m\u001b[0mshape\u001b[0m\u001b[0;34m)\u001b[0m\u001b[0;34m\u001b[0m\u001b[0m\n",
      "\u001b[0;31mRuntimeError\u001b[0m: shape '[21, 21, 21]' is invalid for input of size 27783"
     ]
    }
   ],
   "source": [
    "#from e3nn import o3\n",
    "\n",
    "test = dataset_vanilla[0]\n",
    "test = test.reshape(21, 21, 21)\n",
    "#test = torch.einsum('tixyz->txyzi', test)\n",
    "print(test.shape)\n",
    "#test = torch.einsum('icxyz->icxyz', test)\n",
    "x = CartesianTensor(\"3e\")\n",
    "#sphere = x.from_cartesian(test)\n",
    "\n",
    "#x = CartesianTensor('aijkl=ajikl=aijlk')\n",
    "#print(x)\n",
    "sphere = x.from_cartesian(test)\n",
    "\n",
    "#analogous \n",
    "#nn.conv3d(in_channels=4, out_channels=4, kernel_size=5, stride=1) \n",
    "#e3nn.image.Convolution(Rs_in=[(4, 0)], Rs_out=[(4, 0)], size=5, stride=1)"
   ]
  },
  {
   "cell_type": "code",
   "execution_count": null,
   "metadata": {},
   "outputs": [
    {
     "data": {
      "text/plain": [
       "1e"
      ]
     },
     "execution_count": 91,
     "metadata": {},
     "output_type": "execute_result"
    }
   ],
   "source": [
    "from e3nn.o3 import Irrep, Irreps\n",
    "Irrep(\"1e\")"
   ]
  },
  {
   "cell_type": "code",
   "execution_count": 15,
   "metadata": {},
   "outputs": [],
   "source": [
    "from functools import partial\n",
    "import torch, math\n",
    "from torch import nn\n",
    "from e3nn.nn import BatchNorm, Gate, Dropout\n",
    "from e3nn.nn.models.v2103.voxel_convolution import LowPassFilter\n",
    "from e3nn.o3 import Irreps, Linear, FullyConnectedTensorProduct, Linear\n",
    "from e3nn.math import soft_unit_step, soft_one_hot_linspace\n",
    "from e3nn import o3\n",
    "\n",
    "\n",
    "class Convolution(torch.nn.Module):\n",
    "    r\"\"\"convolution on voxels\n",
    "    Parameters\n",
    "    ----------\n",
    "    irreps_in : `Irreps`\n",
    "        input irreps\n",
    "    irreps_out : `Irreps`\n",
    "        output irreps\n",
    "    irreps_sh : `Irreps`\n",
    "        set typically to ``o3.Irreps.spherical_harmonics(lmax)``\n",
    "    diameter : float\n",
    "        diameter of the filter in physical units\n",
    "    num_radial_basis : int\n",
    "        number of radial basis functions\n",
    "    steps : tuple of float\n",
    "        size of the pixel in physical units\n",
    "    \"\"\"\n",
    "    def __init__(self, irreps_in, irreps_out, irreps_sh, diameter, num_radial_basis, steps=(1.0, 1.0, 1.0),cutoff=True, **kwargs):\n",
    "        super().__init__()\n",
    "\n",
    "        self.irreps_in = o3.Irreps(irreps_in)\n",
    "        self.irreps_out = o3.Irreps(irreps_out)\n",
    "        self.irreps_sh = o3.Irreps(irreps_sh)\n",
    "\n",
    "        self.num_radial_basis = num_radial_basis\n",
    "\n",
    "\n",
    "        # self-connection\n",
    "        self.sc = Linear(self.irreps_in, self.irreps_out)\n",
    "\n",
    "        # connection with neighbors\n",
    "        r = diameter / 2\n",
    "\n",
    "        s = math.floor(r / steps[0])\n",
    "        x = torch.arange(-s, s + 1.0) * steps[0]\n",
    "\n",
    "        s = math.floor(r / steps[1])\n",
    "        y = torch.arange(-s, s + 1.0) * steps[1]\n",
    "\n",
    "        s = math.floor(r / steps[2])\n",
    "        z = torch.arange(-s, s + 1.0) * steps[2]\n",
    "\n",
    "        lattice = torch.stack(torch.meshgrid(x, y, z), dim=-1)  # [x, y, z, R^3]\n",
    "        self.register_buffer('lattice', lattice)\n",
    "\n",
    "        if 'padding' not in kwargs:\n",
    "            kwargs['padding'] = tuple(s // 2 for s in lattice.shape[:3])\n",
    "        self.kwargs = kwargs\n",
    "\n",
    "        emb = soft_one_hot_linspace(\n",
    "            x=lattice.norm(dim=-1),\n",
    "            start=0.0,\n",
    "            end=r,\n",
    "            number=self.num_radial_basis,\n",
    "            basis='smooth_finite',\n",
    "            cutoff=cutoff,\n",
    "        )\n",
    "        self.register_buffer('emb', emb)\n",
    "\n",
    "        sh = o3.spherical_harmonics(\n",
    "            l=self.irreps_sh,\n",
    "            x=lattice,\n",
    "            normalize=True,\n",
    "            normalization='component'\n",
    "        )  # [x, y, z, irreps_sh.dim]\n",
    "        self.register_buffer('sh', sh)\n",
    "\n",
    "        self.tp = FullyConnectedTensorProduct(self.irreps_in, self.irreps_sh, self.irreps_out, shared_weights=False,compile_right=True)\n",
    "\n",
    "        self.weight = torch.nn.Parameter(torch.randn(self.num_radial_basis, self.tp.weight_numel))\n",
    "\n",
    "    def kernel(self):\n",
    "        weight = self.emb @ self.weight\n",
    "        weight = weight / (self.sh.shape[0] * self.sh.shape[1] * self.sh.shape[2])\n",
    "        kernel = self.tp.right(self.sh, weight)  # [x, y, z, irreps_in.dim, irreps_out.dim]\n",
    "        kernel = torch.einsum('xyzio->oixyz', kernel)\n",
    "        return kernel\n",
    "\n",
    "    def forward(self, x):\n",
    "        r\"\"\"\n",
    "        Parameters\n",
    "        ----------\n",
    "        x : `torch.Tensor`\n",
    "            tensor of shape ``(batch, irreps_in.dim, x, y, z)``\n",
    "        Returns\n",
    "        -------\n",
    "        `torch.Tensor`\n",
    "            tensor of shape ``(batch, irreps_out.dim, x, y, z)``\n",
    "        \"\"\"\n",
    "        sc = self.sc(x.transpose(1, 4)).transpose(1, 4)\n",
    "\n",
    "        return sc + torch.nn.functional.conv3d(x, self.kernel(), **self.kwargs)\n",
    "\n",
    "\n",
    "class ConvolutionVoxel(torch.nn.Module):\n",
    "    r\"\"\"convolution on voxels\n",
    "    Parameters\n",
    "    ----------\n",
    "    irreps_in : `Irreps`\n",
    "    irreps_out : `Irreps`\n",
    "    irreps_sh : `Irreps`\n",
    "        set typically to ``o3.Irreps.spherical_harmonics(lmax)``\n",
    "    size : int\n",
    "    steps : tuple of int\n",
    "    \"\"\"\n",
    "    def __init__(self, irreps_in, irreps_out, irreps_sh, size, steps=(1, 1, 1),cutoff=True, **kwargs):\n",
    "        super().__init__()\n",
    "\n",
    "        self.irreps_in = o3.Irreps(irreps_in)\n",
    "        self.irreps_out = o3.Irreps(irreps_out)\n",
    "        self.irreps_sh = o3.Irreps(irreps_sh)\n",
    "        self.size = size\n",
    "        self.num_rbfs = self.size\n",
    "\n",
    "        if 'padding' not in kwargs:\n",
    "            kwargs['padding'] = self.size // 2\n",
    "        self.kwargs = kwargs\n",
    "\n",
    "        # self-connection\n",
    "        self.sc = Linear(self.irreps_in, self.irreps_out)\n",
    "\n",
    "        # connection with neighbors\n",
    "        r = torch.linspace(-1, 1, self.size)\n",
    "        x = r * steps[0] / min(steps)\n",
    "        x = x[x.abs() <= 1]\n",
    "        y = r * steps[1] / min(steps)\n",
    "        y = y[y.abs() <= 1]\n",
    "        z = r * steps[2] / min(steps)\n",
    "        z = z[z.abs() <= 1]\n",
    "        lattice = torch.stack(torch.meshgrid(x, y, z), dim=-1)  # [x, y, z, R^3]\n",
    "        emb = soft_one_hot_linspace(\n",
    "            x=lattice.norm(dim=-1),\n",
    "            start=0.0,\n",
    "            end=1.0,\n",
    "            number=self.num_rbfs,\n",
    "            basis='smooth_finite',\n",
    "            cutoff=cutoff,\n",
    "        )\n",
    "        self.register_buffer('emb', emb)\n",
    "\n",
    "        sh = o3.spherical_harmonics(self.irreps_sh, lattice, True, 'component')  # [x, y, z, irreps_sh.dim]\n",
    "        self.register_buffer('sh', sh)\n",
    "\n",
    "        self.tp = FullyConnectedTensorProduct(self.irreps_in, self.irreps_sh, self.irreps_out, shared_weights=False)\n",
    "\n",
    "        self.weight = torch.nn.Parameter(torch.randn(self.num_rbfs, self.tp.weight_numel))\n",
    "\n",
    "    def forward(self, x):\n",
    "        r\"\"\"\n",
    "        Parameters\n",
    "        ----------\n",
    "        x : `torch.Tensor`\n",
    "            tensor of shape ``(batch, irreps_in.dim, x, y, z)``\n",
    "        Returns\n",
    "        -------\n",
    "        `torch.Tensor`\n",
    "            tensor of shape ``(batch, irreps_out.dim, x, y, z)``\n",
    "        \"\"\"\n",
    "        sc = self.sc(x.transpose(1, 4)).transpose(1, 4)\n",
    "\n",
    "        weight = self.emb @ self.weight\n",
    "        weight = weight / (self.size ** (3/2))\n",
    "        kernel = self.tp.right(self.sh, weight)  # [x, y, z, irreps_in.dim, irreps_out.dim]\n",
    "        kernel = torch.einsum('xyzio->oixyz', kernel)\n",
    "        return sc + 0.1 * torch.nn.functional.conv3d(x, kernel, **self.kwargs)\n",
    "\n",
    "\n",
    "class LowPassFilter(torch.nn.Module):\n",
    "    def __init__(self, scale, stride=1, transposed=False, steps=(1, 1, 1)):\n",
    "        super().__init__()\n",
    "\n",
    "        sigma = 0.5 * (scale ** 2 - 1)**0.5\n",
    "\n",
    "        size = int(1 + 2 * 2.5 * sigma)\n",
    "        if size % 2 == 0:\n",
    "            size += 1\n",
    "\n",
    "        r = torch.linspace(-1, 1, size)\n",
    "        x = r * steps[0] / min(steps)\n",
    "        x = x[x.abs() <= 1]\n",
    "        y = r * steps[1] / min(steps)\n",
    "        y = y[y.abs() <= 1]\n",
    "        z = r * steps[2] / min(steps)\n",
    "        z = z[z.abs() <= 1]\n",
    "        lattice = torch.stack(torch.meshgrid(x, y, z), dim=-1)  # [x, y, z, R^3]\n",
    "        lattice = (size // 2) * lattice\n",
    "\n",
    "        kernel = torch.exp(-lattice.norm(dim=-1).pow(2) / (2 * sigma**2))\n",
    "        kernel = kernel / kernel.sum()\n",
    "        if transposed:\n",
    "            kernel = kernel * stride**3\n",
    "        kernel = kernel[None, None]\n",
    "        self.register_buffer('kernel', kernel)\n",
    "\n",
    "        self.scale = scale\n",
    "        self.stride = stride\n",
    "        self.size = size\n",
    "        self.transposed = transposed\n",
    "\n",
    "    def forward(self, image):\n",
    "        \"\"\"\n",
    "        Parameters\n",
    "        ----------\n",
    "        image : `torch.Tensor`\n",
    "            tensor of shape ``(..., x, y, z)``\n",
    "        Returns\n",
    "        -------\n",
    "        `torch.Tensor`\n",
    "            tensor of shape ``(..., x, y, z)``\n",
    "        \"\"\"\n",
    "        if self.scale <= 1:\n",
    "            assert self.stride == 1\n",
    "            return image\n",
    "\n",
    "        out = image\n",
    "        out = out.reshape(-1, 1, *out.shape[-3:])\n",
    "        if self.transposed:\n",
    "            out = torch.nn.functional.conv_transpose3d(out, self.kernel, padding=self.size // 2, stride=self.stride)\n",
    "        else:\n",
    "            out = torch.nn.functional.conv3d(out, self.kernel, padding=self.size // 2, stride=self.stride)\n",
    "        out = out.reshape(*image.shape[:-3], *out.shape[-3:])\n",
    "        return out\n",
    "\n",
    "\n",
    "\n",
    "\n",
    "\n"
   ]
  },
  {
   "cell_type": "code",
   "execution_count": 16,
   "metadata": {},
   "outputs": [],
   "source": [
    "\n"
   ]
  },
  {
   "cell_type": "code",
   "execution_count": 17,
   "metadata": {},
   "outputs": [
    {
     "name": "stdout",
     "output_type": "stream",
     "text": [
      "torch.Size([1, 5, 21, 21, 21])\n"
     ]
    },
    {
     "name": "stderr",
     "output_type": "stream",
     "text": [
      "/home/santiagovargas/anaconda3/envs/bondnet/lib/python3.7/site-packages/torch/functional.py:478: UserWarning: torch.meshgrid: in an upcoming release, it will be required to pass the indexing argument. (Triggered internally at  /opt/conda/conda-bld/pytorch_1659484809535/work/aten/src/ATen/native/TensorShape.cpp:2894.)\n",
      "  return _VF.meshgrid(tensors, **kwargs)  # type: ignore[attr-defined]\n"
     ]
    }
   ],
   "source": [
    "\n",
    "def test():\n",
    "    conv = Convolution(\n",
    "        \"1e\", \" 2o\", \n",
    "        o3.Irreps.spherical_harmonics(lmax=3), \n",
    "        diameter=5, num_radial_basis=4, steps=(1, 1, 1))\n",
    "\n",
    "    x = torch.randn(1, 3, 21, 21, 21)\n",
    "    #pad_x = torch.zeros((1, 4, 21, 21, 21), device=x.device, dtype=x.dtype)\n",
    "    #pad_x[:, :x.size(1), :, :, :] = x\n",
    "\n",
    "    #x = torch.randn(1, 3, 21, 21, 21)\n",
    "    fi = LowPassFilter(2.0)\n",
    "    #print(fi(pad_x).shape)\n",
    "    print(conv(x).shape)\n",
    "    #fi(x)\n",
    "\n",
    "test()"
   ]
  },
  {
   "cell_type": "code",
   "execution_count": null,
   "metadata": {},
   "outputs": [],
   "source": [
    "x = torch.randn(1, 3, 21, 21, 21)\n",
    "pad_x = torch.zeros((1, 4, 21, 21, 21), device=x.device, dtype=x.dtype)\n",
    "pad_x[:, :x.size(1), :, :, :] = x"
   ]
  },
  {
   "cell_type": "code",
   "execution_count": null,
   "metadata": {},
   "outputs": [
    {
     "name": "stdout",
     "output_type": "stream",
     "text": [
      "torch.Size([1, 3, 21, 21, 21])\n",
      "torch.Size([1, 4, 21, 21, 21])\n"
     ]
    }
   ],
   "source": [
    "print(x.shape)\n",
    "print(pad_x.shape)"
   ]
  },
  {
   "cell_type": "code",
   "execution_count": null,
   "metadata": {},
   "outputs": [],
   "source": [
    "\n"
   ]
  }
 ],
 "metadata": {
  "kernelspec": {
   "display_name": "bondnet",
   "language": "python",
   "name": "python3"
  },
  "language_info": {
   "codemirror_mode": {
    "name": "ipython",
    "version": 3
   },
   "file_extension": ".py",
   "mimetype": "text/x-python",
   "name": "python",
   "nbconvert_exporter": "python",
   "pygments_lexer": "ipython3",
   "version": "3.7.0 (default, Oct  9 2018, 10:31:47) \n[GCC 7.3.0]"
  },
  "orig_nbformat": 4,
  "vscode": {
   "interpreter": {
    "hash": "c205a9eb4435b0aa27aaf0e9c4340d2b9512e0cc8b49dbd290219ad3711c312f"
   }
  }
 },
 "nbformat": 4,
 "nbformat_minor": 2
}
